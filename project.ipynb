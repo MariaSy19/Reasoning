{
 "cells": [
  {
   "cell_type": "code",
   "execution_count": 183,
   "metadata": {},
   "outputs": [],
   "source": [
    "import re"
   ]
  },
  {
   "cell_type": "markdown",
   "metadata": {},
   "source": [
    "#### 1-Eliminate implication"
   ]
  },
  {
   "cell_type": "code",
   "execution_count": 519,
   "metadata": {},
   "outputs": [
    {
     "name": "stdout",
     "output_type": "stream",
     "text": [
      "Original expression: ∀x(P(x)⇒Q(x))⇒(∀x z(x)⇒∀x s(x))\n",
      "Expression without double negation: ∀x(~P(x)∨~Q(x))∨(∀x ~z(x)∨∀x s(x))\n"
     ]
    }
   ],
   "source": [
    "# Initial setup\n",
    "counter = 97\n",
    "# Define the replace_char_at_index function\n",
    "def index_char(str, indx, char_new):\n",
    "    return str[:indx] + char_new + str[indx + 1:]\n",
    "\n",
    "# Define the eliminate_implication function\n",
    "def E_I(expr):\n",
    "    for i in range(len(expr)):\n",
    "        if expr[i] == '⇒':\n",
    "            # Replace '⇒' with '∨'\n",
    "            expr = index_char(expr, i, \"∨\")\n",
    "            for j in range(i-1, -1, -1):\n",
    "                if expr[j] == '(':\n",
    "                    # Replace the character before '(' with '~'\n",
    "                    expr = expr.replace(expr[j-1], \"~\" + expr[j-1])\n",
    "                    break\n",
    "    return expr\n",
    "\n",
    "\n",
    "# Test the function\n",
    "logical_expression = \"∀x(P(x)⇒Q(x))⇒(∀x z(x)⇒∀x s(x))\"\n",
    "expression_without_double_negation = E_I(logical_expression)\n",
    "print(\"Original expression:\", logical_expression)\n",
    "print(\"Expression without double negation:\", expression_without_double_negation)\n",
    "\n"
   ]
  },
  {
   "cell_type": "markdown",
   "metadata": {},
   "source": [
    "####  3-Remove double-not."
   ]
  },
  {
   "cell_type": "code",
   "execution_count": 440,
   "metadata": {},
   "outputs": [
    {
     "name": "stdout",
     "output_type": "stream",
     "text": [
      "Original expression: ['~', '~', ['&', 'P', 'Q']]\n",
      "Expression without double negation: [['&', 'P', 'Q']]\n"
     ]
    }
   ],
   "source": [
    "def remove_doube(exp):\n",
    "  result = []\n",
    "  i = 0\n",
    "  while i < len(exp):\n",
    "    # Check for double negation (~~)\n",
    "    if exp[i:i+2] == '~~':\n",
    "      # Skip over the double negation\n",
    "      i += 2\n",
    "    else:\n",
    "      # Append the character to the result\n",
    "      result.append(exp[i])\n",
    "      i += 1\n",
    "  return ''.join(result)\n",
    "\n",
    "# Example usage\n",
    "logical_expression = \"~~(P & Q) \"\n",
    "expression_without_double_negation = remove_doube(logical_expression)\n",
    "print(\"Original expression:\", logical_expression)\n",
    "print(\"Expression without double negation:\", expression_without_double_negation)\n"
   ]
  },
  {
   "cell_type": "markdown",
   "metadata": {},
   "source": [
    "#### 2-Move negation inward (Demorgan Law)"
   ]
  },
  {
   "cell_type": "code",
   "execution_count": 443,
   "metadata": {},
   "outputs": [
    {
     "name": "stdout",
     "output_type": "stream",
     "text": [
      "Original expression: =>&PQ=>~R|ST\n",
      "Expression after Multi-Not Inward (MNI) transformation: =>&PQ=>~R|ST\n"
     ]
    }
   ],
   "source": [
    "def if_quantis(exp):\n",
    "    final_expression = \"\"\n",
    "    counter = 0\n",
    "    # Loop through each character in the expression\n",
    "    while counter < len(exp):\n",
    "        # check if the current position start with negation forall  or negation there exist \n",
    "        if exp.startswith(\"~∀\", counter) or exp.startswith(\"~∃\", counter):\n",
    "            # Extract the quantifier type (opposite of the negated one)\n",
    "            quanti = '∃' if exp[counter + 1] == '∀' else '∀'\n",
    "            # Add the extracted quantifier to the final expression\n",
    "            final_expression += quanti\n",
    "            # Move the counter past the negation and quantifier symbols\n",
    "            counter += 2\n",
    "            # Add the next character (variable name) and a negation symbol\n",
    "            variable = exp[counter]\n",
    "            final_expression += variable + \"~\"\n",
    "            counter += 1\n",
    "        else:\n",
    "            # If not a negated quantifier, simply add the current character\n",
    "            final_expression += exp[counter]\n",
    "            counter += 1\n",
    "    return final_expression\n",
    "\n",
    "def MNI(expression):\n",
    "    if expression.find('~') == 2:\n",
    "        expression = remove_doube(expression)\n",
    "    # Apply quantifier manipulation\n",
    "    expression = if_quantis(expression)\n",
    "    # Move negation inward using De Morgan's Law\n",
    "    # Define patterns for negation of AND and OR\n",
    "    pat_and = r'~\\((.*?)\\s*&\\s*(.*?)\\)'\n",
    "    pat_or = r'~\\((.*?)\\s*\\|\\s*(.*?)\\)'\n",
    "     # Apply De Morgan's Law for AND and OR\n",
    "    expression = re.sub(pat_and, r'(~\\1 | ~\\2)', expression)\n",
    "    expression = re.sub(pat_or, r'(~\\1 & ~\\2)', expression)\n",
    "    \n",
    "    # Check if the expression starts with a negation\n",
    "    if expression.startswith('~'):\n",
    "        # Remove the negation symbol (~) from the expression\n",
    "        expression = expression[1:]\n",
    "        # Negate the entire expression\n",
    "        expression = \"~(\" + expression + \")\"\n",
    "    \n",
    "    # Loop until all negations (~) have been moved inward\n",
    "    while True:\n",
    "        # Find the start index of the next negation (~)\n",
    "        negation_start = expression.find('~(')\n",
    "        # If no negation is found, exit the loop\n",
    "        if negation_start == -1:\n",
    "            break\n",
    "        \n",
    "        # Find the corresponding closing parenthesis for the negation\n",
    "        open_paren_count = 1\n",
    "        negation_end = negation_start + 2\n",
    "        for i in range(negation_start + 2, len(expression)):\n",
    "            if expression[i] == '(':\n",
    "                open_paren_count += 1\n",
    "            elif expression[i] == ')':\n",
    "                open_paren_count -= 1\n",
    "                if open_paren_count == 0:\n",
    "                    negation_end = i\n",
    "                    break\n",
    "        \n",
    "        # Extract the inner formula enclosed by the negation\n",
    "        inner_formula = expression[negation_start + 2:negation_end]\n",
    "        \n",
    "        # Split the inner formula by the connective symbols (| or &)\n",
    "        subExp = inner_formula.split('|') if '|' in inner_formula else inner_formula.split('&')\n",
    "        \n",
    "        # Negate each subformula and reconstruct the inner formula\n",
    "        negated_subformulas = ['~' + subformula if subformula[0] != '~' else subformula[1:] for subformula in subExp]\n",
    "        # Determine the new logical connective based on the original inner formula\n",
    "        new_connective = '&' if '|' in inner_formula else '|'\n",
    "        inner_formula = '(' + new_connective.join(negated_subformulas) + ')'\n",
    "        \n",
    "        # Replace the negated expression with the transformed inner formula\n",
    "        expression = expression[:negation_start] + inner_formula + expression[negation_end + 1:]\n",
    "    \n",
    "    # Return the expression with all negations moved inward\n",
    "    return expression\n",
    "\n",
    "# Example usage:\n",
    "formula = \"ّّ~~∀x(~(P(x) & Q(x)) | ~R(x))\"\n",
    "formula1 = \"~∀x(P(x) & Q(x))\"\n",
    "moved_formula = MNI(formula)\n",
    "print(\"Original formula:\", formula)\n",
    "print(\"Formula with negation moved inward:\", moved_formula)\n",
    "print(\"=======================================\")\n",
    "moved_formula1 = MNI(formula1)\n",
    "print(\"Original formula1:\", formula1)\n",
    "print(\"Formula with negation moved inward:\", moved_formula1)\n",
    "print(\"=======================================\")\n",
    "formula2 = \"~∃x(~P(x) | Q(x))\"\n",
    "moved_formula2 = MNI(formula2)\n",
    "print(\"Original formula2:\", formula2)\n",
    "print(\"Formula with negation moved inward:\", moved_formula2)\n",
    "print(\"=======================================\")\n",
    "formula3 = \"~∃x∀y(P(x, y) & Q(x, y))\"\n",
    "moved_formula3 = MNI(formula3)\n",
    "print(\"Original formula3:\", formula3)\n",
    "print(\"Formula with negation moved inward:\", moved_formula3)\n",
    "print(\"=======================================\")\n",
    "\n",
    "\n"
   ]
  },
  {
   "cell_type": "markdown",
   "metadata": {},
   "source": [
    "####  4-Standardize variable scope"
   ]
  },
  {
   "cell_type": "code",
   "execution_count": 452,
   "metadata": {},
   "outputs": [
    {
     "name": "stdout",
     "output_type": "stream",
     "text": [
      "Original Expressions 1: ['∃x(P(x) & Q(x))  ∀x(R(x) | S(x))']\n",
      "SVS Result 1: ∃a(P(a) & Q(a))  ∀b(R(b) | S(b))\n",
      "\n",
      "Original Expressions 3: ['∃x∀y(P(x, y) & Q(x, y))∀z∃w(R(z, w) | S(z, w))']\n",
      "SVS Result 3: ∃a∀b(P(a, b) & Q(a, b))∀c∃d(R(c, d) | S(c, d))\n"
     ]
    }
   ],
   "source": [
    "\n",
    "def SVS(exp):\n",
    "    result = \"\"\n",
    "    for expr in exp:\n",
    "        new_expr = expr\n",
    "        vars_seen = set()\n",
    "        rep_map = {}\n",
    "        \n",
    "        def var_new(var_old):\n",
    "            if var_old in rep_map:\n",
    "                return rep_map[var_old]\n",
    "            new_var = chr(ord('a') + len(vars_seen))\n",
    "            while new_var in vars_seen:\n",
    "                new_var = chr(ord(new_var) + 1)\n",
    "            vars_seen.add(new_var)\n",
    "            rep_map[var_old] = new_var\n",
    "            return new_var\n",
    "\n",
    "        counter = 0\n",
    "        while counter < len(new_expr):\n",
    "            if new_expr[counter] in \"∀∃\":\n",
    "                if counter + 1 < len(new_expr):\n",
    "                    var = new_expr[counter + 1]\n",
    "                    if var.islower():  \n",
    "                        new_var = var_new(var)\n",
    "                        new_expr = new_expr[:counter + 1] + new_expr[counter + 1:].replace(var, new_var)\n",
    "                        counter += len(new_var) - 1\n",
    "            counter += 1\n",
    "        result += new_expr   # Concatenate the processed expression with a space\n",
    "        \n",
    "    return result.strip()  # Remove trailing space before returning\n",
    "\n",
    "# Test case\n",
    "\n",
    "expressions_1 = ['∃x(P(x) & Q(x)) '  ' ∀x(R(x) | S(x))']\n",
    "print(\"Original Expressions 1:\", expressions_1)\n",
    "print(\"SVS Result 1:\", SVS(expressions_1))\n",
    "\n",
    "\n",
    "# Test case 3\n",
    "expressions_2 = ['∃x∀y(P(x, y) & Q(x, y))' '∀z∃w(R(z, w) | S(z, w))']\n",
    "print(\"\\nOriginal Expressions 3:\", expressions_2)\n",
    "print(\"SVS Result 3:\", SVS(expressions_2))\n"
   ]
  },
  {
   "cell_type": "markdown",
   "metadata": {},
   "source": [
    "#### 5- The prenex form (obtained by moving all quantifiers to the left of the\n",
    "formula.)"
   ]
  },
  {
   "cell_type": "code",
   "execution_count": 66,
   "metadata": {},
   "outputs": [
    {
     "name": "stdout",
     "output_type": "stream",
     "text": [
      "Original Expression: ∃x(P(x) ∧ Q(x)) ∧ ∀y(R(y) ∨ S(y))\n",
      "Penex Form: ∃x ∀y (P(x) ∧ Q(x)) ∧ (R(y) ∨ S(y))\n"
     ]
    }
   ],
   "source": [
    "#done\n",
    "def penex_form(exp):\n",
    "    quanti_part = \"\"\n",
    "    parts = \"\"\n",
    "    i = 0\n",
    "    while i < len(exp):\n",
    "        if exp[i] == '∀' or exp[i] == '∃':\n",
    "            quanti_part += exp[i] + exp[i+1] + ' '\n",
    "            i += 1  # Skip the next character which is the variable\n",
    "        else:\n",
    "            parts += exp[i]\n",
    "        i += 1\n",
    "    return quanti_part.strip() + \" \" + parts.strip()\n",
    "\n",
    "# Test case\n",
    "expression = '∃x(P(x) ∧ Q(x)) ∧ ∀y(R(y) ∨ S(y))'\n",
    "print(\"Original Expression:\", expression)\n",
    "print(\"Penex Form:\", penex_form(expression))\n"
   ]
  },
  {
   "cell_type": "markdown",
   "metadata": {},
   "source": [
    "#### 6-Skolemization for existential quantifiers"
   ]
  },
  {
   "cell_type": "code",
   "execution_count": 226,
   "metadata": {},
   "outputs": [
    {
     "name": "stdout",
     "output_type": "stream",
     "text": [
      "Original expression: ∃x (P(x) & Q(x))\n",
      "Skolemized expression: P(f(x )) & Q(f(x )))\n"
     ]
    }
   ],
   "source": [
    "def skolemization(exp):\n",
    "    part = exp.split('∃')\n",
    "    parts_skol = [part[0]]\n",
    "    for part in part[1:]:\n",
    "        if part.strip():\n",
    "            var, i, exp_in = part.partition('(')\n",
    "            var += '('  # Adding back the opening parenthesis\n",
    "            \n",
    "            # Create Skolem function with parentheses\n",
    "            func_skol = \"f\" + \"(\"+var.replace('(', '').replace(')', ')')  + \")\" # Add closing parenthesis\n",
    "            \n",
    "            # Replace variable x in the inner expression with the Skolem function\n",
    "            skolemized_inner_exp = exp_in.replace('x',  func_skol )\n",
    "            \n",
    "            \n",
    "            # Append skolemized inner expression to the list of skolemized parts\n",
    "            parts_skol.append(skolemized_inner_exp)\n",
    "    return ''.join(parts_skol)\n",
    "\n",
    "# Example usage:\n",
    "logical_expression = \"∃x (P(x) & Q(x))\"\n",
    "skolemized_expression = skolemization(logical_expression)\n",
    "print(\"Original expression:\", logical_expression)\n",
    "print(\"Skolemized expression:\", skolemized_expression)\n"
   ]
  },
  {
   "cell_type": "markdown",
   "metadata": {},
   "source": [
    "#### 7-Eliminate universal quantifiers."
   ]
  },
  {
   "cell_type": "code",
   "execution_count": 299,
   "metadata": {},
   "outputs": [
    {
     "name": "stdout",
     "output_type": "stream",
     "text": [
      "Original expression: ∀x (P(x) & Q(x))\n",
      "Expression without universal quantifiers: (P(x) & Q(x))\n"
     ]
    }
   ],
   "source": [
    "# done\n",
    "def E_U(exp):\n",
    "    # Define a pattern to match universal quantifiers and their corresponding variables and inner expressions\n",
    "    patrn = r'∀(\\w+)\\s*\\((.*?)\\)'\n",
    "\n",
    "    # Use regex to remove all occurrences of universal quantifiers\n",
    "    withoutForAll = re.sub(patrn, r'(\\2)', exp)\n",
    "\n",
    "    return withoutForAll\n",
    "\n",
    "# Example usage:\n",
    "logical_expression = \"∀x (P(x) & Q(x))\"\n",
    "expression_without_universal_quantifiers = E_U(logical_expression)\n",
    "print(\"Original expression:\", logical_expression)\n",
    "print(\"Expression without universal quantifiers:\", expression_without_universal_quantifiers)\n"
   ]
  },
  {
   "cell_type": "markdown",
   "metadata": {},
   "source": [
    "#### 8-Convert to conjunctive normal form"
   ]
  },
  {
   "cell_type": "markdown",
   "metadata": {},
   "source": [
    "#### - eliminate_bidirectional"
   ]
  },
  {
   "cell_type": "code",
   "execution_count": 514,
   "metadata": {},
   "outputs": [
    {
     "name": "stdout",
     "output_type": "stream",
     "text": [
      "Original expressions:\n",
      "(P <=> Q)\n",
      "(A <=> B) & (B <=> C)\n",
      "(X <=> Y) & (Y <=> Z)\n",
      "(A <=> (B <=> C))\n",
      "(P(x) <=> Q(y)) & (R(z) <=> S(w))\n",
      "\n",
      "Expressions after bidirectional elimination:\n",
      "((P -> Q) & (Q -> P))\n",
      "((A -> B) & ((B -> C) & (C -> B)) & ((B -> C) & (C -> B))\n",
      "((X -> Y) & ((Y -> Z) & (Z -> Y)) & ((Y -> Z) & (Z -> Y))\n",
      "((A -> ((B -> C) & (C (B -> C) & (C -> B) & (((B -> C) & (C -> B)) -> A))\n",
      "((P(x) -> Q(y)) & ((R(z) -> S(w)) & (S(w) -> R(z))) & ((R(z) -> S(w)) & (S(w) -> R(z)))\n"
     ]
    }
   ],
   "source": [
    "def E_b(exp):\n",
    "    # Define a pattern to match bidirectional implications\n",
    "    pat = r'(\\([^()]+\\)|\\b\\w+\\b(?:\\([^()]+\\))?)\\s*<=>\\s*(\\([^()]+\\)|\\b\\w+\\b(?:\\([^()]+\\))?)'\n",
    "\n",
    "    # Repeat until no more bidirectional implications\n",
    "    while re.search(pat, exp):\n",
    "        # Find bidirectional implications\n",
    "        for i in re.finditer(pat, exp):\n",
    "            left_part, right_part = i.groups()\n",
    "\n",
    "            # Replace bidirectional implication with conjunction of implications\n",
    "            exp = exp[:i.start()] + f'({left_part} -> {right_part}) & ({right_part} -> {left_part})' + exp[i.end():]\n",
    "\n",
    "    return exp\n",
    "\n",
    "# Test case\n",
    "test_cases = [\n",
    "    \"(P <=> Q)\",\n",
    "    \"(A <=> B) & (B <=> C)\",\n",
    "    \"(X <=> Y) & (Y <=> Z)\",\n",
    "    \"(A <=> (B <=> C))\",\n",
    "    \"(P(x) <=> Q(y)) & (R(z) <=> S(w))\"\n",
    "]\n",
    "\n",
    "print(\"Original expressions:\")\n",
    "for test_case in test_cases:\n",
    "    print(test_case)\n",
    "\n",
    "print(\"\\nExpressions after bidirectional elimination:\")\n",
    "for test_case in test_cases:\n",
    "    result = E_b(test_case)\n",
    "    print(result)\n",
    "\n"
   ]
  },
  {
   "cell_type": "code",
   "execution_count": 297,
   "metadata": {},
   "outputs": [
    {
     "name": "stdout",
     "output_type": "stream",
     "text": [
      "Original expression: (p & q) | r\n",
      "Expression in conjunctive form: (p  & ( q) | r)\n",
      "===========================================\n",
      "\n",
      "Original expression 2: (p & q) | (r | s)\n",
      "Expression in conjunctive form 2: (p  & ( q) | (r | s))\n",
      "===========================================\n",
      "\n",
      "Original expression 3: (p & q) | (r & s)\n",
      "Expression in conjunctive form 3: (p  & ( q) | (r ) &  s)\n",
      "===========================================\n",
      "\n",
      "Original expression 4: p & (q | r) & (s | t)\n",
      "Expression in conjunctive form 4: p  & ( (q | r) ) & ( (s | t))\n"
     ]
    }
   ],
   "source": [
    "def to_conj_of_disj(expression):\n",
    "    # Split the expression by '&' to get individual conjuncts\n",
    "    conjuncts = expression.split('&')\n",
    "    \n",
    "    # Initialize the result as an empty string\n",
    "    result = \"\"\n",
    "    \n",
    "    # Iterate through each conjunct\n",
    "    for conjunct in conjuncts:\n",
    "        # If the conjunct contains '|', split it by '|' to get individual disjunctions\n",
    "        if '|' in conjunct:\n",
    "            disjunctions = conjunct.split('|')\n",
    "            # If there are multiple disjunctions, wrap them in parentheses\n",
    "            if len(disjunctions) > 1:\n",
    "                conjunct = '(' + conjunct + ')'\n",
    "        \n",
    "        # Append the modified conjunct to the result with '&' in between\n",
    "        result += conjunct + ' & '\n",
    "    \n",
    "    # Remove the trailing '&' and return the result\n",
    "    return result[:-3]  # Remove the last ' & '\n",
    "\n",
    "# Test case for to_conj_of_disj function\n",
    "expression = \"(p & q) | r\"\n",
    "result = to_conj_of_disj(expression)\n",
    "print(\"Original expression:\", expression)\n",
    "print(\"Expression in conjunctive form:\", result)\n",
    "print(\"===========================================\")\n",
    "# Test case 2\n",
    "expression_2 = \"(p & q) | (r | s)\"\n",
    "result_2 = to_conj_of_disj(expression_2)\n",
    "print(\"\\nOriginal expression 2:\", expression_2)\n",
    "print(\"Expression in conjunctive form 2:\", result_2)\n",
    "print(\"===========================================\")\n",
    "# Test case 3\n",
    "expression_3 = \"(p & q) | (r & s)\"\n",
    "result_3 = to_conj_of_disj(expression_3)\n",
    "print(\"\\nOriginal expression 3:\", expression_3)\n",
    "print(\"Expression in conjunctive form 3:\", result_3)\n",
    "# Test case 4\n",
    "print(\"===========================================\")\n",
    "expression_4 = \"p & (q | r) & (s | t)\"\n",
    "result_4 = to_conj_of_disj(expression_4)\n",
    "print(\"\\nOriginal expression 4:\", expression_4)\n",
    "print(\"Expression in conjunctive form 4:\", result_4)"
   ]
  },
  {
   "cell_type": "code",
   "execution_count": 515,
   "metadata": {},
   "outputs": [
    {
     "name": "stdout",
     "output_type": "stream",
     "text": [
      "Original Expression: ∀x(P(x)⇒Q(x))\n",
      "After Step 1 (Eliminate BIDIRECTIONAL): ∀x(P(x)⇒Q(x))\n",
      "After Step 2 (Eliminate Implications): ∀x(~P(x)∨Q(x))\n",
      "After Step 3 (Move Negation Inward): ∀x(~P(x)∨Q(x))\n",
      "After Step 4 (Remove Double Negations): ∀x(~P(x)∨Q(x))\n",
      "After Step 5 (Standardize Variable Scope): ∀a(~P(a)∨Q(a))\n",
      "After Step 6 (Move Universal Quantifiers Outward): (~P(a)∨Q(a))\n",
      "After Step 7 (Skolemization): (~P(a)∨Q(a))\n",
      "After Step 8 (Convert to CNF): (~P(a)∨Q(a))\n",
      "===============================================\n",
      "Original Expression: (P(x)<=>Q(y))\n",
      "After Step 1 (Eliminate BIDIRECTIONAL): ((P(x) -> Q(y)) & (Q(y) -> P(x)))\n",
      "After Step 2 (Eliminate Implications): ((P(x) -> Q(y)) & (Q(y) -> P(x)))\n",
      "After Step 3 (Move Negation Inward): ((P(x) -> Q(y)) & (Q(y) -> P(x)))\n",
      "After Step 4 (Remove Double Negations): ((P(x) -> Q(y)) & (Q(y) -> P(x)))\n",
      "After Step 5 (Standardize Variable Scope): ((P(x) -> Q(y)) & (Q(y) -> P(x)))\n",
      "After Step 6 (Move Universal Quantifiers Outward): ((P(x) -> Q(y)) & (Q(y) -> P(x)))\n",
      "After Step 7 (Skolemization): ((P(x) -> Q(y)) & (Q(y) -> P(x)))\n",
      "After Step 8 (Convert to CNF): ((P(x) -> Q(y))  &  (Q(y) -> P(x)))\n",
      "===============================================\n",
      "\n",
      "Set of CNF Expressions:\n",
      "Logical Expression 1 : (~P(a)∨Q(a))\n",
      "Logical Expression 2 : ((P(x) -> Q(y))  &  (Q(y) -> P(x)))\n"
     ]
    }
   ],
   "source": [
    "def convert_to_CNF(expression):\n",
    "    print(\"Original Expression:\", expression)\n",
    "    \n",
    "    # Step 1: Eliminate BIDIRECTIONAL\n",
    "    expression = E_b(expression)\n",
    "    print(\"After Step 1 (Eliminate BIDIRECTIONAL):\", expression)\n",
    "    \n",
    "    # Step 2: Eliminate Implications\n",
    "    expression = eliminate_implication(expression)\n",
    "    print(\"After Step 2 (Eliminate Implications):\", expression)\n",
    "    \n",
    "    # Step 3: Move Negation Inward\n",
    "    expression = MNI(expression)\n",
    "    print(\"After Step 3 (Move Negation Inward):\", expression)\n",
    "    \n",
    "    # Step 4: Remove Double Negations\n",
    "    expression = remove_doube(expression)\n",
    "    print(\"After Step 4 (Remove Double Negations):\", expression)\n",
    "    \n",
    "    # Step 5: Standardize Variable Scope\n",
    "    expression = [expression]\n",
    "    \n",
    "    expression = SVS(expression)\n",
    "    print(\"After Step 5 (Standardize Variable Scope):\", expression)\n",
    "    # Step 6: Move Universal Quantifiers Outward\n",
    "    expression = E_U(expression)\n",
    "    print(\"After Step 6 (Move Universal Quantifiers Outward):\", expression)\n",
    "    \n",
    "    # Step 7: Skolemization\n",
    "    expression = skolemization(expression)\n",
    "    print(\"After Step 7 (Skolemization):\", expression)\n",
    "    \n",
    "    # Step 8: Convert to CNF\n",
    "    expression = to_conj_of_disj(expression)\n",
    "    print(\"After Step 8 (Convert to CNF):\", expression)\n",
    "    \n",
    "    return expression\n",
    "\n",
    "\n",
    "logical_expressions = {\n",
    "    \"Logical Expression 1\": \"∀x(P(x)⇒Q(x))\",\n",
    "    \"Logical Expression 2\": \"(P(x)<=>Q(y))\"\n",
    "}\n",
    "\n",
    "cnf_expressions = {}\n",
    "for name, expression in logical_expressions.items():\n",
    "    cnf_expression = convert_to_CNF(expression)\n",
    "    cnf_expressions[name] = cnf_expression\n",
    "    print(\"===============================================\")\n",
    "\n",
    "print(\"\\nSet of CNF Expressions:\")\n",
    "for name, expression in cnf_expressions.items():\n",
    "    print(name, \":\", expression)\n",
    "\n",
    "\n",
    "\n"
   ]
  },
  {
   "cell_type": "markdown",
   "metadata": {},
   "source": [
    "#### Step 9: Turn Conjunctions into Clauses"
   ]
  },
  {
   "cell_type": "code",
   "execution_count": 523,
   "metadata": {},
   "outputs": [
    {
     "name": "stdout",
     "output_type": "stream",
     "text": [
      "Test Case 1: (P(x) -> Q(y)) & (Q(y) -> P(x))\n",
      "Clauses:\n",
      "(P(x) -> Q(y))\n",
      "(Q(y) -> P(x))\n",
      "\n",
      "Test Case 2: (A & B) & (C | D)\n",
      "Clauses:\n",
      "(A\n",
      "B)\n",
      "( (C | D))\n",
      "\n",
      "Test Case 3: A & B & C & D\n",
      "Clauses:\n",
      "A\n",
      "D\n",
      "C\n",
      "B\n",
      "\n",
      "Test Case 4: (P(x) | Q(y)) & (R(z))\n",
      "Clauses:\n",
      "((P(x) | Q(y)) )\n",
      "(R(z))\n",
      "\n",
      "Test Case 5: A\n",
      "Clauses:\n",
      "A\n",
      "\n"
     ]
    }
   ],
   "source": [
    "def turn_into_clauses(expression):\n",
    "    # Split the expression by '&' to get individual conjuncts\n",
    "    conj = expression.split('&')\n",
    "    clause = []\n",
    "    # Iterate through each conjunct\n",
    "    for conjunct in conj:\n",
    "        # If the conjunct contains '|', split it by '|' to get individual disjunctions\n",
    "        if '|' in conjunct:\n",
    "            disjun = conjunct.split('|')\n",
    "            # If there are multiple disjunctions, wrap them in parentheses\n",
    "            if len(disjun) > 1:\n",
    "                conjunct = '(' + conjunct + ')'\n",
    "       \n",
    "        # Append the modified conjunct to the list of clauses\n",
    "        clause.append(conjunct.strip())\n",
    "    \n",
    "    return set(clause)  # Using set to ensure uniqueness of clauses\n",
    "#test cases \n",
    "test_cases = [\n",
    "    \"(P(x) -> Q(y)) & (Q(y) -> P(x))\",  \n",
    "    \"(A & B) & (C | D)\",  \n",
    "    \"A & B & C & D\",  \n",
    "    \"(P(x) | Q(y)) & (R(z))\", \n",
    "    \"A\"  \n",
    "]\n",
    "\n",
    "# Test the function with each test case\n",
    "for i, test_case in enumerate(test_cases, 1):\n",
    "    print(f\"Test Case {i}: {test_case}\")\n",
    "    result = turn_into_clauses(test_case)\n",
    "    print(\"Clauses:\")\n",
    "    for clause in result:\n",
    "        print(clause)\n",
    "    print()\n"
   ]
  },
  {
   "cell_type": "markdown",
   "metadata": {},
   "source": [
    "##### 10.Rename variables in clauses so that each clause has a unique variable name"
   ]
  },
  {
   "cell_type": "code",
   "execution_count": 526,
   "metadata": {},
   "outputs": [
    {
     "name": "stdout",
     "output_type": "stream",
     "text": [
      "Clauses with local renaming: {'(R | x2 ', '(Q | x1 ', '(P | x0 '}\n",
      "Clauses with local renaming (formula 2): {'(y | y) ', '(~x | ~x) ', '(z | w) '}\n",
      "Clauses with globally unique variables: {'(P | x0  ', '(Q | x1  ', '(R | x2  '}\n",
      "Clauses with globally unique variables (formula 2): {'(~x | ~x)  ', '(y | y)  ', '(z | w)  '}\n"
     ]
    }
   ],
   "source": [
    "def split_cnf_and_rename_variables(expression):\n",
    "    \"\"\"Split CNF expression into clauses and rename variables in each clause to ensure local uniqueness.\"\"\"\n",
    "    clauses = expression.split(\" & \")\n",
    "    return further_rename_variables(clauses)\n",
    "\n",
    "def further_rename_variables(clauses):\n",
    "    \"\"\"Renames variables in clauses to ensure unique names across all clauses.\"\"\"\n",
    "    # Track used variable names\n",
    "    used_variables = set()\n",
    "    counter = 0\n",
    "\n",
    "    # Rename variables in each clause\n",
    "    renamed_clauses = set()\n",
    "    for clause in clauses:\n",
    "        new_clause = \"\"\n",
    "        for literal in clause.split(\" | \"):\n",
    "            if literal[0] in \"PQRSTUVWXYZ\":\n",
    "                new_var = f\"x{counter}\"\n",
    "                while new_var in used_variables:  # Check for conflicts\n",
    "                    counter += 1\n",
    "                    new_var = f\"x{counter}\"\n",
    "                used_variables.add(new_var)  # Add to used variables\n",
    "                new_clause += new_var if literal[0] != \"~\" else f\"~{new_var}\"\n",
    "            else:\n",
    "                new_clause += literal\n",
    "            new_clause += \" | \"\n",
    "        renamed_clauses.add(new_clause[:-2])  # Remove trailing \"|\"\n",
    "\n",
    "    return renamed_clauses\n",
    "\n",
    "# Test case for splitting CNF and renaming variables\n",
    "\n",
    "# Formula with potential conflicts across clauses\n",
    "formula = \"(P | P) & (Q | Q) & (R | S)\"\n",
    "\n",
    "# Split and rename variables within each clause (step 9)\n",
    "clauses_with_local_renaming = split_cnf_and_rename_variables(formula)\n",
    "print(\"Clauses with local renaming:\", clauses_with_local_renaming)\n",
    "\n",
    "# Formula with potential conflicts across all clauses\n",
    "formula2 = \"(~x | ~x) & (y | y) & (z | w)\"\n",
    "\n",
    "# Split and rename variables within each clause (step 9)\n",
    "clauses_with_local_renaming2 = split_cnf_and_rename_variables(formula2)\n",
    "print(\"Clauses with local renaming (formula 2):\", clauses_with_local_renaming2)\n",
    "\n",
    "# Further rename variables for global uniqueness (step 10)\n",
    "globally_unique_clauses = further_rename_variables(clauses_with_local_renaming)\n",
    "print(\"Clauses with globally unique variables:\", globally_unique_clauses)\n",
    "\n",
    "# Further rename variables for formula 2 (optional)\n",
    "globally_unique_clauses2 = further_rename_variables(clauses_with_local_renaming2)\n",
    "print(\"Clauses with globally unique variables (formula 2):\", globally_unique_clauses2)\n"
   ]
  },
  {
   "cell_type": "code",
   "execution_count": 524,
   "metadata": {},
   "outputs": [
    {
     "ename": "NameError",
     "evalue": "name 'split_cnf_and_rename_variables' is not defined",
     "output_type": "error",
     "traceback": [
      "\u001b[1;31m---------------------------------------------------------------------------\u001b[0m",
      "\u001b[1;31mNameError\u001b[0m                                 Traceback (most recent call last)",
      "Cell \u001b[1;32mIn[524], line 39\u001b[0m\n\u001b[0;32m     36\u001b[0m formula \u001b[38;5;241m=\u001b[39m \u001b[38;5;124m\"\u001b[39m\u001b[38;5;124m(P | P) & (Q | Q) & (R | S)\u001b[39m\u001b[38;5;124m\"\u001b[39m\n\u001b[0;32m     38\u001b[0m \u001b[38;5;66;03m# Split and rename variables within each clause (step 9)\u001b[39;00m\n\u001b[1;32m---> 39\u001b[0m clauses_with_local_renaming \u001b[38;5;241m=\u001b[39m \u001b[43msplit_cnf_and_rename_variables\u001b[49m(formula)\n\u001b[0;32m     40\u001b[0m \u001b[38;5;28mprint\u001b[39m(\u001b[38;5;124m\"\u001b[39m\u001b[38;5;124mClauses with local renaming:\u001b[39m\u001b[38;5;124m\"\u001b[39m, clauses_with_local_renaming)\n\u001b[0;32m     42\u001b[0m \u001b[38;5;66;03m# Formula with potential conflicts across all clauses\u001b[39;00m\n",
      "\u001b[1;31mNameError\u001b[0m: name 'split_cnf_and_rename_variables' is not defined"
     ]
    }
   ],
   "source": [
    "def further_rename_variables(clauses):\n",
    "  \"\"\"Renames variables in clauses to ensure unique names across all clauses.\n",
    "\n",
    "  Args:\n",
    "      clauses: A set of strings representing clauses in CNF.\n",
    "\n",
    "  Returns:\n",
    "      A set of strings representing clauses with unique variables across all clauses.\n",
    "  \"\"\"\n",
    "\n",
    "  # Track used variable names\n",
    "  used_variables = set()\n",
    "  counter = 0\n",
    "\n",
    "  # Rename variables in each clause\n",
    "  renamed_clauses = set()\n",
    "  for clause in clauses:\n",
    "    new_clause = \"\"\n",
    "    for literal in clause.split(\" | \"):\n",
    "      if literal[0] in \"PQRSTUVWXYZ\":\n",
    "        new_var = f\"x{counter}\"\n",
    "        while new_var in used_variables:  # Check for conflicts\n",
    "          counter += 1\n",
    "          new_var = f\"x{counter}\"\n",
    "        used_variables.add(new_var)  # Add to used variables\n",
    "        new_clause += new_var if literal[0] != \"~\" else f\"~{new_var}\"\n",
    "      else:\n",
    "        new_clause += literal\n",
    "      new_clause += \" | \"\n",
    "    renamed_clauses.add(new_clause[:-2])  # Remove trailing \"|\"\n",
    "\n",
    "  return renamed_clauses\n",
    "# Test case for splitting CNF and renaming variables\n",
    "\n",
    "# Formula with potential conflicts across clauses\n",
    "formula = \"(P | P) & (Q | Q) & (R | S)\"\n",
    "\n",
    "# Split and rename variables within each clause (step 9)\n",
    "clauses_with_local_renaming = split_cnf_and_rename_variables(formula)\n",
    "print(\"Clauses with local renaming:\", clauses_with_local_renaming)\n",
    "\n",
    "# Formula with potential conflicts across all clauses\n",
    "formula2 = \"(~x | ~x) & (y | y) & (z | w)\"\n",
    "\n",
    "# Split and rename variables within each clause (step 9)\n",
    "clauses_with_local_renaming2 = split_cnf_and_rename_variables(formula2)\n",
    "print(\"Clauses with local renaming (formula 2):\", clauses_with_local_renaming2)\n",
    "\n",
    "# Further rename variables for global uniqueness (step 10)\n",
    "globally_unique_clauses = further_rename_variables(clauses_with_local_renaming)\n",
    "print(\"Clauses with globally unique variables:\", globally_unique_clauses)\n",
    "\n",
    "# Further rename variables for formula 2 (optional)\n",
    "globally_unique_clauses2 = further_rename_variables(clauses_with_local_renaming2)\n",
    "print(\"Clauses with globally unique variables (formula 2):\", globally_unique_clauses2)\n"
   ]
  },
  {
   "cell_type": "markdown",
   "metadata": {},
   "source": [
    "#### Resolution function "
   ]
  },
  {
   "cell_type": "code",
   "execution_count": 527,
   "metadata": {},
   "outputs": [
    {
     "name": "stdout",
     "output_type": "stream",
     "text": [
      "Original Expression:  ((P(x) & Q(x)) | (~P(x) & R(x))) => ((~Q(x) & S(x)) | (~R(x) & T(x)))\n",
      "After Step 1 (Eliminate BIDIRECTIONAL):  ((P(x) & Q(x)) | (~P(x) & R(x))) => ((~Q(x) & S(x)) | (~R(x) & T(x)))\n",
      "After Step 2 (Eliminate Implications):  ((P(x) & Q(x)) | (~P(x) & R(x))) => ((~Q(x) & S(x)) | (~R(x) & T(x)))\n",
      "After Step 3 (Move Negation Inward):  ((P(x) & Q(x)) | (~P(x) & R(x))) => ((~Q(x) & S(x)) | (~R(x) & T(x)))\n",
      "After Step 4 (Remove Double Negations):  ((P(x) & Q(x)) | (~P(x) & R(x))) => ((~Q(x) & S(x)) | (~R(x) & T(x)))\n",
      "After Step 5 (Standardize Variable Scope): ((P(x) & Q(x)) | (~P(x) & R(x))) => ((~Q(x) & S(x)) | (~R(x) & T(x)))\n",
      "After Step 6 (Move Universal Quantifiers Outward): ((P(x) & Q(x)) | (~P(x) & R(x))) => ((~Q(x) & S(x)) | (~R(x) & T(x)))\n",
      "After Step 7 (Skolemization): ((P(x) & Q(x)) | (~P(x) & R(x))) => ((~Q(x) & S(x)) | (~R(x) & T(x)))\n",
      "After Step 8 (Convert to CNF): ((P(x)  & ( Q(x)) | (~P(x) ) &  R(x))) => ((~Q(x)  & ( S(x)) | (~R(x) ) &  T(x)))\n",
      "Result after resolution procedure: {'T(x)))', '( ( S(x)) | (~R(x) ) )', '((P(x)', 'R(x))) => ((~Q(x)', '( ( Q(x)) | (~P(x) ) )'}\n"
     ]
    }
   ],
   "source": [
    "# Apply Resolution Procedure\n",
    "def resolution_procedure(expression):\n",
    "    # Apply each step of resolution procedure\n",
    "    expression = E_I(expression)\n",
    "    expression = MNI(expression)\n",
    "    expression = remove_doube(expression)\n",
    "    expression = SVS(expression)\n",
    "    expression = penex_form(expression)\n",
    "    expression = skolemization(expression)\n",
    "    expression = E_U(expression)\n",
    "    expression = convert_to_CNF(expression)\n",
    "    #note complete \n",
    "    expression = turn_into_clauses(expression)\n",
    "    # expression = rename_variables_in_clauses(expression)\n",
    "    # Perform resolution here\n",
    "    \n",
    "    return expression\n",
    "# Test case for resolution_procedure function\n",
    "test_expression = \"((P(x) & Q(x)) | (~P(x) & R(x))) => ((~Q(x) & S(x)) | (~R(x) & T(x)))\"\n",
    "\n",
    "result = resolution_procedure(test_expression)\n",
    "print(\"Result after resolution procedure:\", result)\n"
   ]
  },
  {
   "cell_type": "code",
   "execution_count": 529,
   "metadata": {},
   "outputs": [
    {
     "name": "stdout",
     "output_type": "stream",
     "text": [
      "Result after resolution: ~P ~P ~x ~x ~x ~x ~x ~Q ~Q ~R\n"
     ]
    }
   ],
   "source": [
    "import re\n",
    "\n",
    "def resolution(expression):\n",
    "    # Initialize counters for positive and negative occurrences of words\n",
    "    positive_counter = {}\n",
    "    negative_counter = {}\n",
    "\n",
    "    # Function to update counters based on the occurrence of words\n",
    "    def update_counters(match):\n",
    "        word = match.group(1)\n",
    "        sign = match.group(2)\n",
    "\n",
    "        if sign == '':\n",
    "            # Positive occurrence\n",
    "            positive_counter[word] = positive_counter.get(word, 0) + 1\n",
    "        else:\n",
    "            # Negative occurrence\n",
    "            negative_counter[word] = negative_counter.get(word, 0) + 1\n",
    "\n",
    "    # Update counters by finding words and their signs in the expression\n",
    "    re.sub(r'\\b(\\w+)\\b(\\')?', update_counters, expression)\n",
    "\n",
    "    # Remove words appearing both positively and negatively\n",
    "    for word in positive_counter.keys() & negative_counter.keys():\n",
    "        count = min(positive_counter[word], negative_counter[word])\n",
    "        del positive_counter[word]\n",
    "        del negative_counter[word]\n",
    "        # Decrement the counters\n",
    "        positive_counter[word] -= count\n",
    "        negative_counter[word] -= count\n",
    "\n",
    "    # Construct the resulting expression with updated counters\n",
    "    result_expression = ''\n",
    "    for word, count in positive_counter.items():\n",
    "        if count > 0:\n",
    "            result_expression += f\"{word} \" * count\n",
    "    for word, count in negative_counter.items():\n",
    "        if count > 0:\n",
    "            result_expression += f\"~{word} \" * count\n",
    "\n",
    "    return result_expression.strip()\n",
    "\n",
    "\n",
    "# Test case\n",
    "test_expression = \"P(x) & Q(x) & ~P(x) & R(x) & ~Q(x)\"\n",
    "result = resolution(test_expression)\n",
    "print(\"Result after resolution:\", result)\n"
   ]
  },
  {
   "cell_type": "code",
   "execution_count": 530,
   "metadata": {},
   "outputs": [
    {
     "name": "stdout",
     "output_type": "stream",
     "text": [
      "Result: & Q(x) | | | R(x) S(x) ~P(x) ~P(x)\n"
     ]
    }
   ],
   "source": [
    "def resolution(expression):\n",
    "    # Function to count occurrences of each word\n",
    "    def count_words(expr):\n",
    "        words = expr.split()\n",
    "        pos_counter = {}\n",
    "        neg_counter = {}\n",
    "\n",
    "        for word in words:\n",
    "            if word[0] == '~':  # Check if it's a negated word\n",
    "                word = word[1:]\n",
    "                neg_counter[word] = neg_counter.get(word, 0) + 1\n",
    "            else:\n",
    "                pos_counter[word] = pos_counter.get(word, 0) + 1\n",
    "\n",
    "        return pos_counter, neg_counter\n",
    "\n",
    "    # Function to remove words appearing in both positive and negative forms\n",
    "    def remove_duplicates(pos_counter, neg_counter):\n",
    "        duplicates = set(pos_counter.keys()) & set(neg_counter.keys())\n",
    "\n",
    "        for word in duplicates:\n",
    "            min_count = min(pos_counter[word], neg_counter[word])\n",
    "            if min_count > 0:\n",
    "                pos_counter[word] -= min_count\n",
    "                neg_counter[word] -= min_count\n",
    "\n",
    "        return pos_counter, neg_counter\n",
    "\n",
    "    # Apply resolution procedure\n",
    "    pos_counter, neg_counter = count_words(expression)\n",
    "    pos_counter, neg_counter = remove_duplicates(pos_counter, neg_counter)\n",
    "\n",
    "    # Check if any counter becomes zero\n",
    "    for word, count in pos_counter.items():\n",
    "        if count == 0:\n",
    "            return None\n",
    "    for word, count in neg_counter.items():\n",
    "        if count == 0:\n",
    "            return None\n",
    "\n",
    "    # Reconstruct expression from modified counters\n",
    "    modified_expression = ''\n",
    "    for word, count in pos_counter.items():\n",
    "        modified_expression += (word + ' ') * count\n",
    "    for word, count in neg_counter.items():\n",
    "        modified_expression += (('~' + word + ' ') * count)\n",
    "\n",
    "    return modified_expression.strip()\n",
    "\n",
    "# Test case\n",
    "test_expression = \"~P(x) & Q(x) | ~P(x) | R(x) | S(x)\"\n",
    "result = resolution(test_expression)\n",
    "print(\"Result:\", result)\n"
   ]
  }
 ],
 "metadata": {
  "kernelspec": {
   "display_name": "Python 3",
   "language": "python",
   "name": "python3"
  },
  "language_info": {
   "codemirror_mode": {
    "name": "ipython",
    "version": 3
   },
   "file_extension": ".py",
   "mimetype": "text/x-python",
   "name": "python",
   "nbconvert_exporter": "python",
   "pygments_lexer": "ipython3",
   "version": "3.12.1"
  }
 },
 "nbformat": 4,
 "nbformat_minor": 2
}
