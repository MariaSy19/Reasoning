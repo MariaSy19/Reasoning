{
 "cells": [
  {
   "cell_type": "code",
   "execution_count": 1,
   "metadata": {},
   "outputs": [],
   "source": [
    "import re"
   ]
  },
  {
   "cell_type": "markdown",
   "metadata": {},
   "source": [
    "#### 1-Eliminate implication"
   ]
  },
  {
   "cell_type": "code",
   "execution_count": 106,
   "metadata": {},
   "outputs": [
    {
     "name": "stdout",
     "output_type": "stream",
     "text": [
      "Original expression: (P -> Q)\n",
      "Expression with implications eliminated: ( ~P | Q )\n"
     ]
    }
   ],
   "source": [
    "#done\n",
    "def E_I(exp):\n",
    "\n",
    "    pat = r'(\\b\\w+\\b)\\s*->\\s*(\\b\\w+\\b)'\n",
    "    return re.sub(pat, r' ~\\1 | \\2 ', exp)\n",
    "\n",
    "logical_expression = \"(P -> Q)\"\n",
    "eliminated_expression = E_I(logical_expression)\n",
    "print(\"Original expression:\", logical_expression)\n",
    "print(\"Expression with implications eliminated:\", eliminated_expression)\n"
   ]
  },
  {
   "cell_type": "markdown",
   "metadata": {},
   "source": [
    "#### 2-Move negation inward (Demorgan Law)"
   ]
  },
  {
   "cell_type": "code",
   "execution_count": 97,
   "metadata": {},
   "outputs": [
    {
     "name": "stdout",
     "output_type": "stream",
     "text": [
      "Original formula: ∀x(~(P(x) & Q(x)) | ~R(x))\n",
      "Formula with negation moved inward: ∀x((~P(x) & ~ Q(x)) | ~R(x))\n"
     ]
    }
   ],
   "source": [
    "def MNI(expression):\n",
    "    # Loop until all negations (~) have been moved inward\n",
    "    while True:\n",
    "        # Find the start index of the next negation (~)\n",
    "        negation_start = expression.find('~(')\n",
    "        # If no negation is found, exit the loop\n",
    "        if negation_start == -1:\n",
    "            break\n",
    "        \n",
    "        # Find the corresponding closing parenthesis for the negation\n",
    "        counter = 1\n",
    "        negation_end = negation_start + 2\n",
    "        for i in range(negation_start + 2, len(expression)):\n",
    "            if expression[i] == '(':\n",
    "                open_paren_count += 1\n",
    "            elif expression[i] == ')':\n",
    "                open_paren_count -= 1\n",
    "                if open_paren_count == 0:\n",
    "                    negation_end = i\n",
    "                    break\n",
    "        \n",
    "        # Extract the inner formula enclosed by the negation\n",
    "        inner_formula = expression[negation_start + 2:negation_end]\n",
    "        \n",
    "        # Split the inner formula by the connective symbols (| or &)\n",
    "        subExp = inner_formula.split('|') if '|' in inner_formula else inner_formula.split('&')\n",
    "        \n",
    "        # Apply negation to each subformula and reconstruct the inner formula\n",
    "        negated_subformulas = ['~' + subformula if subformula[0] != '~' else subformula[1:] for subformula in subExp]\n",
    "        inner_formula = '(' + '|'.join(negated_subformulas) + ')' if '| ' in inner_formula else '(' + '& '.join(negated_subformulas) + ')'\n",
    "        \n",
    "        # Replace the negated expression with the transformed inner formula\n",
    "        expression = expression[:negation_start] + inner_formula + expression[negation_end + 1:]\n",
    "    \n",
    "    # Return the expression with all negations moved inward\n",
    "    return expression\n",
    "\n",
    "# Example usage:\n",
    "formula = \"∀x(~(P(x) & Q(x)) | ~R(x))\"\n",
    "moved_formula = MNI(formula)\n",
    "print(\"Original formula:\", formula)\n",
    "print(\"Formula with negation moved inward:\", moved_formula)\n"
   ]
  },
  {
   "cell_type": "markdown",
   "metadata": {},
   "source": [
    "####  3-Remove double-not."
   ]
  },
  {
   "cell_type": "code",
   "execution_count": 67,
   "metadata": {},
   "outputs": [
    {
     "name": "stdout",
     "output_type": "stream",
     "text": [
      "Original expression: ~~(P & Q) \n",
      "Expression without double negation: (P & Q) \n"
     ]
    }
   ],
   "source": [
    "#done\n",
    "def remove_doube(exp):\n",
    "    result = []\n",
    "    i = 0\n",
    "    while i < len(exp):\n",
    "        if exp[i:i+2] == '~~':\n",
    "            # Skip over the double negation\n",
    "            i += 2\n",
    "        else:\n",
    "            result.append(exp[i])\n",
    "            i += 1\n",
    "    return ''.join(result)\n",
    "\n",
    "logical_expression = \"~~(P & Q) \"\n",
    "expression_without_double_negation = remove_doube(logical_expression)\n",
    "print(\"Original expression:\", logical_expression)\n",
    "print(\"Expression without double negation:\", expression_without_double_negation)"
   ]
  },
  {
   "cell_type": "markdown",
   "metadata": {},
   "source": [
    "####  4-Standardize variable scope"
   ]
  },
  {
   "cell_type": "code",
   "execution_count": 173,
   "metadata": {},
   "outputs": [
    {
     "name": "stdout",
     "output_type": "stream",
     "text": [
      "Original Expressions 1: ['∃x(P(x) & Q(x))  ∀x(R(x) | S(x))']\n",
      "SVS Result 1: ['∃a(P(a) & Q(a))  ∀b(R(b) | S(b))']\n",
      "\n",
      "Original Expressions 3: ['∃x∀y(P(x, y) & Q(x, y))∀z∃w(R(z, w) | S(z, w))']\n",
      "SVS Result 3: ['∃a∀b(P(a, b) & Q(a, b))∀c∃d(R(c, d) | S(c, d))']\n"
     ]
    }
   ],
   "source": [
    "def SVS(exp):\n",
    "    l = []\n",
    "    for expression in exp:\n",
    "        new_expr = expression\n",
    "        used_variables = set()\n",
    "        rep_map = {}\n",
    "        def new_variable(old_var):\n",
    "            if old_var in rep_map:\n",
    "                return rep_map[old_var]\n",
    "            new_var = chr(ord('a') + len(used_variables))\n",
    "            while new_var in used_variables:\n",
    "                new_var = chr(ord(new_var) + 1)\n",
    "            used_variables.add(new_var)\n",
    "            rep_map[old_var] = new_var\n",
    "            return new_var\n",
    "\n",
    "        i = 0\n",
    "        while i < len(new_expr):\n",
    "            if new_expr[i] in \"∀∃\":\n",
    "                var = new_expr[i + 1]\n",
    "                if var.islower(): # Confirm variable\n",
    "                    new_var = new_variable(var)\n",
    "                    new_expr = new_expr[:i + 1] + new_expr[i + 1:].replace(var, new_var)\n",
    "                    i += len(new_var) - 1\n",
    "            i += 1\n",
    "        l.append(new_expr)\n",
    "\n",
    "    return l\n",
    "\n",
    "# Test case\n",
    "# Test case 1\n",
    "expressions_1 = ['∃x(P(x) & Q(x)) '  ' ∀x(R(x) | S(x))']\n",
    "print(\"Original Expressions 1:\", expressions_1)\n",
    "print(\"SVS Result 1:\", SVS(expressions_1))\n",
    "\n",
    "\n",
    "# Test case 3\n",
    "expressions_2 = ['∃x∀y(P(x, y) & Q(x, y))' '∀z∃w(R(z, w) | S(z, w))']\n",
    "print(\"\\nOriginal Expressions 3:\", expressions_2)\n",
    "print(\"SVS Result 3:\", SVS(expressions_2))\n"
   ]
  },
  {
   "cell_type": "markdown",
   "metadata": {},
   "source": [
    "#### 5- The prenex form (obtained by moving all quantifiers to the left of the\n",
    "formula.)"
   ]
  },
  {
   "cell_type": "code",
   "execution_count": 66,
   "metadata": {},
   "outputs": [
    {
     "name": "stdout",
     "output_type": "stream",
     "text": [
      "Original Expression: ∃x(P(x) ∧ Q(x)) ∧ ∀y(R(y) ∨ S(y))\n",
      "Penex Form: ∃x ∀y (P(x) ∧ Q(x)) ∧ (R(y) ∨ S(y))\n"
     ]
    }
   ],
   "source": [
    "#done\n",
    "def penex_form(exp):\n",
    "    quanti_part = \"\"\n",
    "    parts = \"\"\n",
    "    i = 0\n",
    "    while i < len(exp):\n",
    "        if exp[i] == '∀' or exp[i] == '∃':\n",
    "            quanti_part += exp[i] + exp[i+1] + ' '\n",
    "            i += 1  # Skip the next character which is the variable\n",
    "        else:\n",
    "            parts += exp[i]\n",
    "        i += 1\n",
    "    return quanti_part.strip() + \" \" + parts.strip()\n",
    "\n",
    "# Test case\n",
    "expression = '∃x(P(x) ∧ Q(x)) ∧ ∀y(R(y) ∨ S(y))'\n",
    "print(\"Original Expression:\", expression)\n",
    "print(\"Penex Form:\", penex_form(expression))\n"
   ]
  },
  {
   "cell_type": "markdown",
   "metadata": {},
   "source": [
    "#### 6-Skolemization for existential quantifiers"
   ]
  },
  {
   "cell_type": "code",
   "execution_count": 151,
   "metadata": {},
   "outputs": [
    {
     "name": "stdout",
     "output_type": "stream",
     "text": [
      "Original expression: ∃x (P(x) & Q(x))\n",
      "Skolemized expression: P((fx ) & Q((fx ))\n"
     ]
    }
   ],
   "source": [
    "def skolemization(exp):\n",
    "    parts = exp.split('∃')\n",
    "    skolemized_parts = [parts[0]]\n",
    "    for part in parts[1:]:\n",
    "        if part.strip():\n",
    "            variables, _, inner_exp = part.partition('(')\n",
    "            variables += '('  # Adding back the opening parenthesis\n",
    "            \n",
    "            # Create Skolem function with parentheses\n",
    "            skolem_function = \"(f\" + variables.replace('(', '').replace(')', ')')  # Add closing parenthesis\n",
    "            \n",
    "            # Replace variable x in the inner expression with the Skolem function\n",
    "            skolemized_inner_exp = inner_exp.replace('x', skolem_function)\n",
    "            \n",
    "            \n",
    "            # Append skolemized inner expression to the list of skolemized parts\n",
    "            skolemized_parts.append(skolemized_inner_exp)\n",
    "    return ''.join(skolemized_parts)\n",
    "\n",
    "# Example usage:\n",
    "logical_expression = \"∃x (P(x) & Q(x))\"\n",
    "skolemized_expression = skolemization(logical_expression)\n",
    "print(\"Original expression:\", logical_expression)\n",
    "print(\"Skolemized expression:\", skolemized_expression)\n"
   ]
  },
  {
   "cell_type": "markdown",
   "metadata": {},
   "source": [
    "#### 7-Eliminate universal quantifiers."
   ]
  },
  {
   "cell_type": "code",
   "execution_count": 71,
   "metadata": {},
   "outputs": [
    {
     "name": "stdout",
     "output_type": "stream",
     "text": [
      "Original expression: ∀x (P(x) & Q(x))\n",
      "Expression without universal quantifiers: (P(x) & Q(x))\n"
     ]
    }
   ],
   "source": [
    "# done\n",
    "def E_U(expression):\n",
    "    # Define a pattern to match universal quantifiers and their corresponding variables and inner expressions\n",
    "    pattern = r'∀(\\w+)\\s*\\((.*?)\\)'\n",
    "\n",
    "    # Use regex to remove all occurrences of universal quantifiers\n",
    "    expression_without_universal_quantifiers = re.sub(pattern, r'(\\2)', expression)\n",
    "\n",
    "    return expression_without_universal_quantifiers\n",
    "\n",
    "# Example usage:\n",
    "logical_expression = \"∀x (P(x) & Q(x))\"\n",
    "expression_without_universal_quantifiers = E_U(logical_expression)\n",
    "print(\"Original expression:\", logical_expression)\n",
    "print(\"Expression without universal quantifiers:\", expression_without_universal_quantifiers)\n"
   ]
  },
  {
   "cell_type": "code",
   "execution_count": null,
   "metadata": {},
   "outputs": [],
   "source": []
  }
 ],
 "metadata": {
  "kernelspec": {
   "display_name": "Python 3",
   "language": "python",
   "name": "python3"
  },
  "language_info": {
   "codemirror_mode": {
    "name": "ipython",
    "version": 3
   },
   "file_extension": ".py",
   "mimetype": "text/x-python",
   "name": "python",
   "nbconvert_exporter": "python",
   "pygments_lexer": "ipython3",
   "version": "3.12.1"
  }
 },
 "nbformat": 4,
 "nbformat_minor": 2
}
