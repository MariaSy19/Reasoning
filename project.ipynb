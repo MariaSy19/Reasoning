{
 "cells": [
  {
   "cell_type": "code",
   "execution_count": 1,
   "metadata": {},
   "outputs": [],
   "source": [
    "import re"
   ]
  },
  {
   "cell_type": "markdown",
   "metadata": {},
   "source": [
    "#### 1-Eliminate implication"
   ]
  },
  {
   "cell_type": "code",
   "execution_count": 106,
   "metadata": {},
   "outputs": [
    {
     "name": "stdout",
     "output_type": "stream",
     "text": [
      "Original expression: (P -> Q)\n",
      "Expression with implications eliminated: ( ~P | Q )\n"
     ]
    }
   ],
   "source": [
    "#done\n",
    "def E_I(exp):\n",
    "\n",
    "    pat = r'(\\b\\w+\\b)\\s*->\\s*(\\b\\w+\\b)'\n",
    "    return re.sub(pat, r' ~\\1 | \\2 ', exp)\n",
    "\n",
    "logical_expression = \"(P -> Q)\"\n",
    "eliminated_expression = E_I(logical_expression)\n",
    "print(\"Original expression:\", logical_expression)\n",
    "print(\"Expression with implications eliminated:\", eliminated_expression)\n"
   ]
  },
  {
   "cell_type": "markdown",
   "metadata": {},
   "source": [
    "#### 2-Move negation inward (Demorgan Law)"
   ]
  },
  {
   "cell_type": "code",
   "execution_count": 97,
   "metadata": {},
   "outputs": [
    {
     "name": "stdout",
     "output_type": "stream",
     "text": [
      "Original formula: ∀x(~(P(x) & Q(x)) | ~R(x))\n",
      "Formula with negation moved inward: ∀x((~P(x) & ~ Q(x)) | ~R(x))\n"
     ]
    }
   ],
   "source": [
    "def MNI(expression):\n",
    "    # Loop until all negations (~) have been moved inward\n",
    "    while True:\n",
    "        # Find the start index of the next negation (~)\n",
    "        negation_start = expression.find('~(')\n",
    "        # If no negation is found, exit the loop\n",
    "        if negation_start == -1:\n",
    "            break\n",
    "        \n",
    "        # Find the corresponding closing parenthesis for the negation\n",
    "        counter = 1\n",
    "        negation_end = negation_start + 2\n",
    "        for i in range(negation_start + 2, len(expression)):\n",
    "            if expression[i] == '(':\n",
    "                open_paren_count += 1\n",
    "            elif expression[i] == ')':\n",
    "                open_paren_count -= 1\n",
    "                if open_paren_count == 0:\n",
    "                    negation_end = i\n",
    "                    break\n",
    "        \n",
    "        # Extract the inner formula enclosed by the negation\n",
    "        inner_formula = expression[negation_start + 2:negation_end]\n",
    "        \n",
    "        # Split the inner formula by the connective symbols (| or &)\n",
    "        subExp = inner_formula.split('|') if '|' in inner_formula else inner_formula.split('&')\n",
    "        \n",
    "        # Apply negation to each subformula and reconstruct the inner formula\n",
    "        negated_subformulas = ['~' + subformula if subformula[0] != '~' else subformula[1:] for subformula in subExp]\n",
    "        inner_formula = '(' + '|'.join(negated_subformulas) + ')' if '| ' in inner_formula else '(' + '& '.join(negated_subformulas) + ')'\n",
    "        \n",
    "        # Replace the negated expression with the transformed inner formula\n",
    "        expression = expression[:negation_start] + inner_formula + expression[negation_end + 1:]\n",
    "    \n",
    "    # Return the expression with all negations moved inward\n",
    "    return expression\n",
    "\n",
    "# Example usage:\n",
    "formula = \"∀x(~(P(x) & Q(x)) | ~R(x))\"\n",
    "moved_formula = MNI(formula)\n",
    "print(\"Original formula:\", formula)\n",
    "print(\"Formula with negation moved inward:\", moved_formula)\n"
   ]
  },
  {
   "cell_type": "markdown",
   "metadata": {},
   "source": [
    "####  3-Remove double-not."
   ]
  },
  {
   "cell_type": "code",
   "execution_count": 67,
   "metadata": {},
   "outputs": [
    {
     "name": "stdout",
     "output_type": "stream",
     "text": [
      "Original expression: ~~(P & Q) \n",
      "Expression without double negation: (P & Q) \n"
     ]
    }
   ],
   "source": [
    "#done\n",
    "def remove_doube(exp):\n",
    "    result = []\n",
    "    i = 0\n",
    "    while i < len(exp):\n",
    "        if exp[i:i+2] == '~~':\n",
    "            # Skip over the double negation\n",
    "            i += 2\n",
    "        else:\n",
    "            result.append(exp[i])\n",
    "            i += 1\n",
    "    return ''.join(result)\n",
    "\n",
    "logical_expression = \"~~(P & Q) \"\n",
    "expression_without_double_negation = remove_doube(logical_expression)\n",
    "print(\"Original expression:\", logical_expression)\n",
    "print(\"Expression without double negation:\", expression_without_double_negation)"
   ]
  },
  {
   "cell_type": "markdown",
   "metadata": {},
   "source": [
    "####  4-Standardize variable scope"
   ]
  },
  {
   "cell_type": "code",
   "execution_count": 78,
   "metadata": {},
   "outputs": [
    {
     "name": "stdout",
     "output_type": "stream",
     "text": [
      "Original Expressions: ['∃x(P(x) ∧ Q(x))', '∀y(R(y) ∨ S(y))']\n",
      "SVS Result: ['∃x(P(x) ∧ Q(x))', '∀y(R(y) ∨ S(y))']\n"
     ]
    }
   ],
   "source": [
    "def standardize_variable_scope(formula):\n",
    "  \"\"\"Renames variables within quantifiers to ensure unique names.\"\"\"\n",
    "\n",
    "  def rename_variables_in_scope(scope):\n",
    "    \"\"\"Renames variables within a quantifier scope.\"\"\"\n",
    "    counter = 0\n",
    "    new_scope = \"\"\n",
    "    for i, char in enumerate(scope):\n",
    "      if char.isalpha():\n",
    "        if i > 0 and scope[i-1] == \"∀\" or scope[i-1] == \"∃\":\n",
    "          counter += 1  # Reset counter for new quantifier\n",
    "        new_scope += char + f\"{counter}\"  # Append unique identifier\n",
    "      else:\n",
    "        new_scope += char\n",
    "    return new_scope\n",
    "\n",
    "  i = 0\n",
    "  while i < len(formula):\n",
    "    if formula[i] in \"∀∃\":\n",
    "      quantifier_end = formula.find(\")\", i)\n",
    "      scope = formula[i+1:quantifier_end].strip()\n",
    "      new_scope = rename_variables_in_scope(scope)\n",
    "      formula = formula[:i+1] + new_scope + formula[quantifier_end:]\n",
    "      i += len(new_scope) + 2  # Move past quantifier and scope\n",
    "    else:\n",
    "      i += 1\n",
    "\n",
    "  return formula\n",
    "\n",
    "expressions = ['∃x(P(x) ∧ Q(x))', '∀y(R(y) ∨ S(y))']\n",
    "print(\"Original Expressions:\", expressions)\n",
    "print(\"SVS Result:\", standardize_variable_scope(expressions))\n"
   ]
  },
  {
   "cell_type": "code",
   "execution_count": 75,
   "metadata": {},
   "outputs": [
    {
     "name": "stdout",
     "output_type": "stream",
     "text": [
      "Original Expressions: ['∃x(P(x) ∧ Q(x))', '∀y(R(y) ∨ S(y))']\n",
      "SVS Result: ['∃b(P(b) ∧ Q(b))', '∀b(R(b) ∨ S(b))']\n"
     ]
    }
   ],
   "source": [
    "def SVS(exp):\n",
    "    l = []\n",
    "    for i in exp:\n",
    "        copy_exp = i\n",
    "        rep_map = {}\n",
    "        \n",
    "        def new_var(old_var, used_vars):\n",
    "            if old_var in rep_map:\n",
    "                return rep_map[old_var]\n",
    "            new_vars = set(used_vars)\n",
    "            varNew = chr(ord(max(new_vars)) + 1) if new_vars else 'a'\n",
    "            while varNew in new_vars:\n",
    "                varNew = chr(ord(varNew) + 1)\n",
    "            new_vars.add(varNew)\n",
    "            rep_map[old_var] = varNew\n",
    "            return varNew\n",
    "\n",
    "        i = 0\n",
    "        while i < len(copy_exp):\n",
    "            if copy_exp[i] in \"∀∃\":\n",
    "                variable = copy_exp[i + 1]\n",
    "                if variable.islower(): # Confirm variable\n",
    "                    new_vari = new_var(variable, copy_exp[:i])  # Use current expression's variables\n",
    "                    copy_exp = copy_exp[:i + 1] + copy_exp[i + 1:].replace(variable, new_vari)\n",
    "                    i += len(new_vari) - 1\n",
    "            i += 1\n",
    "        l.append(copy_exp)\n",
    "    return l\n",
    "\n",
    "# Test case\n",
    "expressions = ['∃x(P(x) ∧ Q(x))', '∀y(R(y) ∨ S(y))']\n",
    "print(\"Original Expressions:\", expressions)\n",
    "print(\"SVS Result:\", SVS(expressions))\n"
   ]
  },
  {
   "cell_type": "code",
   "execution_count": 50,
   "metadata": {},
   "outputs": [],
   "source": [
    "def SVS(exp):\n",
    "    l = []\n",
    "    for i in exp:\n",
    "        copy_exp = i\n",
    "        var = set()\n",
    "        rep_map = {}\n",
    "    def new_var(old_var):\n",
    "        if old_var in rep_map:\n",
    "            return rep_map[old_var]\n",
    "        varNew = chr(ord('a') + len(var))\n",
    "        while  varNew in var:\n",
    "            varNew = chr(ord(var)+1)\n",
    "        var.add(varNew)\n",
    "        rep_map[old_var] = varNew\n",
    "        return varNew\n",
    "    i = 0\n",
    "    while i < len(copy_exp):\n",
    "        if copy_exp[i] in \"∀∃\":\n",
    "            variable = copy_exp[i+1]\n",
    "            if variable.islower(): # confirm variable\n",
    "                new_vari = new_var(variable)\n",
    "                copy_exp = copy_exp[:i+1] + copy_exp[i+1:].replace(variable,new_vari)\n",
    "                i += len(new_vari) - 1\n",
    "        i+=1\n",
    "    l.append(copy_exp)\n",
    "    "
   ]
  },
  {
   "cell_type": "markdown",
   "metadata": {},
   "source": [
    "#### 5- The prenex form (obtained by moving all quantifiers to the left of the\n",
    "formula.)"
   ]
  },
  {
   "cell_type": "code",
   "execution_count": 66,
   "metadata": {},
   "outputs": [
    {
     "name": "stdout",
     "output_type": "stream",
     "text": [
      "Original Expression: ∃x(P(x) ∧ Q(x)) ∧ ∀y(R(y) ∨ S(y))\n",
      "Penex Form: ∃x ∀y (P(x) ∧ Q(x)) ∧ (R(y) ∨ S(y))\n"
     ]
    }
   ],
   "source": [
    "#done\n",
    "def penex_form(exp):\n",
    "    quanti_part = \"\"\n",
    "    parts = \"\"\n",
    "    i = 0\n",
    "    while i < len(exp):\n",
    "        if exp[i] == '∀' or exp[i] == '∃':\n",
    "            quanti_part += exp[i] + exp[i+1] + ' '\n",
    "            i += 1  # Skip the next character which is the variable\n",
    "        else:\n",
    "            parts += exp[i]\n",
    "        i += 1\n",
    "    return quanti_part.strip() + \" \" + parts.strip()\n",
    "\n",
    "# Test case\n",
    "expression = '∃x(P(x) ∧ Q(x)) ∧ ∀y(R(y) ∨ S(y))'\n",
    "print(\"Original Expression:\", expression)\n",
    "print(\"Penex Form:\", penex_form(expression))\n"
   ]
  },
  {
   "cell_type": "markdown",
   "metadata": {},
   "source": [
    "#### 6-Skolemization for existential quantifiers"
   ]
  },
  {
   "cell_type": "code",
   "execution_count": null,
   "metadata": {},
   "outputs": [],
   "source": [
    "def skolemization(exp):\n",
    "    parts = exp.split('∀')\n",
    "    skolemized_parts = [parts[0]]\n",
    "    if part in parts[1:]"
   ]
  },
  {
   "cell_type": "code",
   "execution_count": 60,
   "metadata": {},
   "outputs": [
    {
     "ename": "ValueError",
     "evalue": "too many values to unpack (expected 2)",
     "output_type": "error",
     "traceback": [
      "\u001b[1;31m---------------------------------------------------------------------------\u001b[0m",
      "\u001b[1;31mValueError\u001b[0m                                Traceback (most recent call last)",
      "Cell \u001b[1;32mIn[60], line 15\u001b[0m\n\u001b[0;32m     13\u001b[0m \u001b[38;5;66;03m# Example usage:\u001b[39;00m\n\u001b[0;32m     14\u001b[0m logical_expression \u001b[38;5;241m=\u001b[39m \u001b[38;5;124m\"\u001b[39m\u001b[38;5;124m∃x (P(x) & Q(x))\u001b[39m\u001b[38;5;124m\"\u001b[39m\n\u001b[1;32m---> 15\u001b[0m skolemized_expression \u001b[38;5;241m=\u001b[39m \u001b[43mskolemization\u001b[49m\u001b[43m(\u001b[49m\u001b[43mlogical_expression\u001b[49m\u001b[43m)\u001b[49m\n\u001b[0;32m     16\u001b[0m \u001b[38;5;28mprint\u001b[39m(\u001b[38;5;124m\"\u001b[39m\u001b[38;5;124mOriginal expression:\u001b[39m\u001b[38;5;124m\"\u001b[39m, logical_expression)\n\u001b[0;32m     17\u001b[0m \u001b[38;5;28mprint\u001b[39m(\u001b[38;5;124m\"\u001b[39m\u001b[38;5;124mSkolemized expression:\u001b[39m\u001b[38;5;124m\"\u001b[39m, skolemized_expression)\n",
      "Cell \u001b[1;32mIn[60], line 6\u001b[0m, in \u001b[0;36mskolemization\u001b[1;34m(exp)\u001b[0m\n\u001b[0;32m      4\u001b[0m \u001b[38;5;28;01mfor\u001b[39;00m part \u001b[38;5;129;01min\u001b[39;00m parts[\u001b[38;5;241m1\u001b[39m:]:\n\u001b[0;32m      5\u001b[0m     \u001b[38;5;28;01mif\u001b[39;00m part\u001b[38;5;241m.\u001b[39mstrip():\n\u001b[1;32m----> 6\u001b[0m         variables, inner_exp \u001b[38;5;241m=\u001b[39m part\u001b[38;5;241m.\u001b[39msplit(\u001b[38;5;124m'\u001b[39m\u001b[38;5;124m)\u001b[39m\u001b[38;5;124m'\u001b[39m)\n\u001b[0;32m      7\u001b[0m         variables \u001b[38;5;241m+\u001b[39m\u001b[38;5;241m=\u001b[39m \u001b[38;5;124m'\u001b[39m\u001b[38;5;124m)\u001b[39m\u001b[38;5;124m'\u001b[39m  \u001b[38;5;66;03m# Adding back the closing parenthesis\u001b[39;00m\n\u001b[0;32m      8\u001b[0m         skolem_function \u001b[38;5;241m=\u001b[39m \u001b[38;5;124m\"\u001b[39m\u001b[38;5;124mf\u001b[39m\u001b[38;5;124m\"\u001b[39m \u001b[38;5;241m+\u001b[39m variables\u001b[38;5;241m.\u001b[39mreplace(\u001b[38;5;124m'\u001b[39m\u001b[38;5;124m(\u001b[39m\u001b[38;5;124m'\u001b[39m, \u001b[38;5;124m'\u001b[39m\u001b[38;5;124m'\u001b[39m)\u001b[38;5;241m.\u001b[39mreplace(\u001b[38;5;124m'\u001b[39m\u001b[38;5;124m)\u001b[39m\u001b[38;5;124m'\u001b[39m, \u001b[38;5;124m'\u001b[39m\u001b[38;5;124m'\u001b[39m)\n",
      "\u001b[1;31mValueError\u001b[0m: too many values to unpack (expected 2)"
     ]
    }
   ],
   "source": [
    "def skolemization(exp):\n",
    "    parts = exp.split('∃')\n",
    "    skolemized_parts = [parts[0]]\n",
    "    for part in parts[1:]:\n",
    "        if part.strip():\n",
    "            variables, inner_exp = part.split(')')\n",
    "            variables += ')'  # Adding back the closing parenthesis\n",
    "            skolem_function = \"f\" + variables.replace('(', '').replace(')', '')\n",
    "            skolemized_inner_exp = inner_exp.replace('(', '(' + skolem_function + '(')\n",
    "            skolemized_parts.append(skolemized_inner_exp)\n",
    "    return ''.join(skolemized_parts)\n",
    "\n",
    "# Example usage:\n",
    "logical_expression = \"∃x (P(x) & Q(x))\"\n",
    "skolemized_expression = skolemization(logical_expression)\n",
    "print(\"Original expression:\", logical_expression)\n",
    "print(\"Skolemized expression:\", skolemized_expression)\n"
   ]
  },
  {
   "cell_type": "markdown",
   "metadata": {},
   "source": [
    "#### 7-Eliminate universal quantifiers."
   ]
  },
  {
   "cell_type": "code",
   "execution_count": 71,
   "metadata": {},
   "outputs": [
    {
     "name": "stdout",
     "output_type": "stream",
     "text": [
      "Original expression: ∀x (P(x) & Q(x))\n",
      "Expression without universal quantifiers: (P(x) & Q(x))\n"
     ]
    }
   ],
   "source": [
    "# done\n",
    "def E_U(expression):\n",
    "    # Define a pattern to match universal quantifiers and their corresponding variables and inner expressions\n",
    "    pattern = r'∀(\\w+)\\s*\\((.*?)\\)'\n",
    "\n",
    "    # Use regex to remove all occurrences of universal quantifiers\n",
    "    expression_without_universal_quantifiers = re.sub(pattern, r'(\\2)', expression)\n",
    "\n",
    "    return expression_without_universal_quantifiers\n",
    "\n",
    "# Example usage:\n",
    "logical_expression = \"∀x (P(x) & Q(x))\"\n",
    "expression_without_universal_quantifiers = E_U(logical_expression)\n",
    "print(\"Original expression:\", logical_expression)\n",
    "print(\"Expression without universal quantifiers:\", expression_without_universal_quantifiers)\n"
   ]
  }
 ],
 "metadata": {
  "kernelspec": {
   "display_name": "Python 3",
   "language": "python",
   "name": "python3"
  },
  "language_info": {
   "codemirror_mode": {
    "name": "ipython",
    "version": 3
   },
   "file_extension": ".py",
   "mimetype": "text/x-python",
   "name": "python",
   "nbconvert_exporter": "python",
   "pygments_lexer": "ipython3",
   "version": "3.12.1"
  }
 },
 "nbformat": 4,
 "nbformat_minor": 2
}
