{
 "cells": [
  {
   "cell_type": "code",
   "execution_count": 183,
   "metadata": {},
   "outputs": [],
   "source": [
    "import re"
   ]
  },
  {
   "cell_type": "markdown",
   "metadata": {},
   "source": [
    "#### 1-Eliminate implication"
   ]
  },
  {
   "cell_type": "code",
   "execution_count": 485,
   "metadata": {},
   "outputs": [
    {
     "name": "stdout",
     "output_type": "stream",
     "text": [
      "Original expression: ∀x(P(x)⇒Q(x))⇒(∀x z(x)⇒∀x s(x))\n",
      "Expression without double negation: ∀x(~P(x)∨~Q(x))∨(∀x ~z(x)∨∀x s(x))\n"
     ]
    }
   ],
   "source": [
    "# Initial setup\n",
    "counter = 97\n",
    "# Define the replace_char_at_index function\n",
    "def index_char(str, indx, char_new):\n",
    "    return str[:indx] + char_new + str[indx + 1:]\n",
    "\n",
    "# Define the eliminate_implication function\n",
    "def eliminate_implication(formula):\n",
    "    for i in range(len(formula)):\n",
    "        if formula[i] == '⇒':\n",
    "            # Replace '⇒' with '∨'\n",
    "            formula = index_char(formula, i, \"∨\")\n",
    "            for j in range(i-1, -1, -1):\n",
    "                if formula[j] == '(':\n",
    "                    # Replace the character before '(' with '~'\n",
    "                    formula = formula.replace(formula[j-1], \"~\" + formula[j-1])\n",
    "                    break\n",
    "    return formula\n",
    "\n",
    "\n",
    "# Test the function\n",
    "logical_expression = \"∀x(P(x)⇒Q(x))⇒(∀x z(x)⇒∀x s(x))\"\n",
    "expression_without_double_negation = eliminate_implication(logical_expression)\n",
    "print(\"Original expression:\", logical_expression)\n",
    "print(\"Expression without double negation:\", expression_without_double_negation)\n",
    "\n"
   ]
  },
  {
   "cell_type": "markdown",
   "metadata": {},
   "source": [
    "####  3-Remove double-not."
   ]
  },
  {
   "cell_type": "code",
   "execution_count": 440,
   "metadata": {},
   "outputs": [
    {
     "name": "stdout",
     "output_type": "stream",
     "text": [
      "Original expression: ['~', '~', ['&', 'P', 'Q']]\n",
      "Expression without double negation: [['&', 'P', 'Q']]\n"
     ]
    }
   ],
   "source": [
    "def remove_doube(exp):\n",
    "  result = []\n",
    "  i = 0\n",
    "  while i < len(exp):\n",
    "    # Check for double negation (~~)\n",
    "    if exp[i:i+2] == '~~':\n",
    "      # Skip over the double negation\n",
    "      i += 2\n",
    "    else:\n",
    "      # Append the character to the result\n",
    "      result.append(exp[i])\n",
    "      i += 1\n",
    "  return ''.join(result)\n",
    "\n",
    "# Example usage\n",
    "logical_expression = \"~~(P & Q) \"\n",
    "expression_without_double_negation = remove_doube(logical_expression)\n",
    "print(\"Original expression:\", logical_expression)\n",
    "print(\"Expression without double negation:\", expression_without_double_negation)\n"
   ]
  },
  {
   "cell_type": "markdown",
   "metadata": {},
   "source": [
    "#### 2-Move negation inward (Demorgan Law)"
   ]
  },
  {
   "cell_type": "code",
   "execution_count": 443,
   "metadata": {},
   "outputs": [
    {
     "name": "stdout",
     "output_type": "stream",
     "text": [
      "Original expression: =>&PQ=>~R|ST\n",
      "Expression after Multi-Not Inward (MNI) transformation: =>&PQ=>~R|ST\n"
     ]
    }
   ],
   "source": [
    "def if_quantis(exp):\n",
    "    final_expression = \"\"\n",
    "    counter = 0\n",
    "    # Loop through each character in the expression\n",
    "    while counter < len(exp):\n",
    "        # check if the current position start with negation forall  or negation there exist \n",
    "        if exp.startswith(\"~∀\", counter) or exp.startswith(\"~∃\", counter):\n",
    "            # Extract the quantifier type (opposite of the negated one)\n",
    "            quanti = '∃' if exp[counter + 1] == '∀' else '∀'\n",
    "            # Add the extracted quantifier to the final expression\n",
    "            final_expression += quanti\n",
    "            # Move the counter past the negation and quantifier symbols\n",
    "            counter += 2\n",
    "            # Add the next character (variable name) and a negation symbol\n",
    "            variable = exp[counter]\n",
    "            final_expression += variable + \"~\"\n",
    "            counter += 1\n",
    "        else:\n",
    "            # If not a negated quantifier, simply add the current character\n",
    "            final_expression += exp[counter]\n",
    "            counter += 1\n",
    "    return final_expression\n",
    "\n",
    "def MNI(expression):\n",
    "    if expression.find('~') == 2:\n",
    "        expression = remove_doube(expression)\n",
    "    # Apply quantifier manipulation\n",
    "    expression = if_quantis(expression)\n",
    "    # Move negation inward using De Morgan's Law\n",
    "    # Define patterns for negation of AND and OR\n",
    "    pat_and = r'~\\((.*?)\\s*&\\s*(.*?)\\)'\n",
    "    pat_or = r'~\\((.*?)\\s*\\|\\s*(.*?)\\)'\n",
    "     # Apply De Morgan's Law for AND and OR\n",
    "    expression = re.sub(pat_and, r'(~\\1 | ~\\2)', expression)\n",
    "    expression = re.sub(pat_or, r'(~\\1 & ~\\2)', expression)\n",
    "    \n",
    "    # Check if the expression starts with a negation\n",
    "    if expression.startswith('~'):\n",
    "        # Remove the negation symbol (~) from the expression\n",
    "        expression = expression[1:]\n",
    "        # Negate the entire expression\n",
    "        expression = \"~(\" + expression + \")\"\n",
    "    \n",
    "    # Loop until all negations (~) have been moved inward\n",
    "    while True:\n",
    "        # Find the start index of the next negation (~)\n",
    "        negation_start = expression.find('~(')\n",
    "        # If no negation is found, exit the loop\n",
    "        if negation_start == -1:\n",
    "            break\n",
    "        \n",
    "        # Find the corresponding closing parenthesis for the negation\n",
    "        open_paren_count = 1\n",
    "        negation_end = negation_start + 2\n",
    "        for i in range(negation_start + 2, len(expression)):\n",
    "            if expression[i] == '(':\n",
    "                open_paren_count += 1\n",
    "            elif expression[i] == ')':\n",
    "                open_paren_count -= 1\n",
    "                if open_paren_count == 0:\n",
    "                    negation_end = i\n",
    "                    break\n",
    "        \n",
    "        # Extract the inner formula enclosed by the negation\n",
    "        inner_formula = expression[negation_start + 2:negation_end]\n",
    "        \n",
    "        # Split the inner formula by the connective symbols (| or &)\n",
    "        subExp = inner_formula.split('|') if '|' in inner_formula else inner_formula.split('&')\n",
    "        \n",
    "        # Negate each subformula and reconstruct the inner formula\n",
    "        negated_subformulas = ['~' + subformula if subformula[0] != '~' else subformula[1:] for subformula in subExp]\n",
    "        # Determine the new logical connective based on the original inner formula\n",
    "        new_connective = '&' if '|' in inner_formula else '|'\n",
    "        inner_formula = '(' + new_connective.join(negated_subformulas) + ')'\n",
    "        \n",
    "        # Replace the negated expression with the transformed inner formula\n",
    "        expression = expression[:negation_start] + inner_formula + expression[negation_end + 1:]\n",
    "    \n",
    "    # Return the expression with all negations moved inward\n",
    "    return expression\n",
    "\n",
    "# Example usage:\n",
    "formula = \"ّّ~~∀x(~(P(x) & Q(x)) | ~R(x))\"\n",
    "formula1 = \"~∀x(P(x) & Q(x))\"\n",
    "moved_formula = MNI(formula)\n",
    "print(\"Original formula:\", formula)\n",
    "print(\"Formula with negation moved inward:\", moved_formula)\n",
    "print(\"=======================================\")\n",
    "moved_formula1 = MNI(formula1)\n",
    "print(\"Original formula1:\", formula1)\n",
    "print(\"Formula with negation moved inward:\", moved_formula1)\n",
    "print(\"=======================================\")\n",
    "formula2 = \"~∃x(~P(x) | Q(x))\"\n",
    "moved_formula2 = MNI(formula2)\n",
    "print(\"Original formula2:\", formula2)\n",
    "print(\"Formula with negation moved inward:\", moved_formula2)\n",
    "print(\"=======================================\")\n",
    "formula3 = \"~∃x∀y(P(x, y) & Q(x, y))\"\n",
    "moved_formula3 = MNI(formula3)\n",
    "print(\"Original formula3:\", formula3)\n",
    "print(\"Formula with negation moved inward:\", moved_formula3)\n",
    "print(\"=======================================\")\n",
    "\n",
    "\n"
   ]
  },
  {
   "cell_type": "markdown",
   "metadata": {},
   "source": [
    "####  4-Standardize variable scope"
   ]
  },
  {
   "cell_type": "code",
   "execution_count": 452,
   "metadata": {},
   "outputs": [
    {
     "name": "stdout",
     "output_type": "stream",
     "text": [
      "Original Expressions 1: ['∃x(P(x) & Q(x))  ∀x(R(x) | S(x))']\n",
      "SVS Result 1: ∃a(P(a) & Q(a))  ∀b(R(b) | S(b))\n",
      "\n",
      "Original Expressions 3: ['∃x∀y(P(x, y) & Q(x, y))∀z∃w(R(z, w) | S(z, w))']\n",
      "SVS Result 3: ∃a∀b(P(a, b) & Q(a, b))∀c∃d(R(c, d) | S(c, d))\n"
     ]
    }
   ],
   "source": [
    "\n",
    "def SVS(exp):\n",
    "    result = \"\"\n",
    "    for expr in exp:\n",
    "        new_expr = expr\n",
    "        vars_seen = set()\n",
    "        rep_map = {}\n",
    "        \n",
    "        def var_new(var_old):\n",
    "            if var_old in rep_map:\n",
    "                return rep_map[var_old]\n",
    "            new_var = chr(ord('a') + len(vars_seen))\n",
    "            while new_var in vars_seen:\n",
    "                new_var = chr(ord(new_var) + 1)\n",
    "            vars_seen.add(new_var)\n",
    "            rep_map[var_old] = new_var\n",
    "            return new_var\n",
    "\n",
    "        counter = 0\n",
    "        while counter < len(new_expr):\n",
    "            if new_expr[counter] in \"∀∃\":\n",
    "                if counter + 1 < len(new_expr):\n",
    "                    var = new_expr[counter + 1]\n",
    "                    if var.islower():  \n",
    "                        new_var = var_new(var)\n",
    "                        new_expr = new_expr[:counter + 1] + new_expr[counter + 1:].replace(var, new_var)\n",
    "                        counter += len(new_var) - 1\n",
    "            counter += 1\n",
    "        result += new_expr   # Concatenate the processed expression with a space\n",
    "        \n",
    "    return result.strip()  # Remove trailing space before returning\n",
    "\n",
    "# Test case\n",
    "\n",
    "expressions_1 = ['∃x(P(x) & Q(x)) '  ' ∀x(R(x) | S(x))']\n",
    "print(\"Original Expressions 1:\", expressions_1)\n",
    "print(\"SVS Result 1:\", SVS(expressions_1))\n",
    "\n",
    "\n",
    "# Test case 3\n",
    "expressions_2 = ['∃x∀y(P(x, y) & Q(x, y))' '∀z∃w(R(z, w) | S(z, w))']\n",
    "print(\"\\nOriginal Expressions 3:\", expressions_2)\n",
    "print(\"SVS Result 3:\", SVS(expressions_2))\n"
   ]
  },
  {
   "cell_type": "markdown",
   "metadata": {},
   "source": [
    "#### 5- The prenex form (obtained by moving all quantifiers to the left of the\n",
    "formula.)"
   ]
  },
  {
   "cell_type": "code",
   "execution_count": 66,
   "metadata": {},
   "outputs": [
    {
     "name": "stdout",
     "output_type": "stream",
     "text": [
      "Original Expression: ∃x(P(x) ∧ Q(x)) ∧ ∀y(R(y) ∨ S(y))\n",
      "Penex Form: ∃x ∀y (P(x) ∧ Q(x)) ∧ (R(y) ∨ S(y))\n"
     ]
    }
   ],
   "source": [
    "#done\n",
    "def penex_form(exp):\n",
    "    quanti_part = \"\"\n",
    "    parts = \"\"\n",
    "    i = 0\n",
    "    while i < len(exp):\n",
    "        if exp[i] == '∀' or exp[i] == '∃':\n",
    "            quanti_part += exp[i] + exp[i+1] + ' '\n",
    "            i += 1  # Skip the next character which is the variable\n",
    "        else:\n",
    "            parts += exp[i]\n",
    "        i += 1\n",
    "    return quanti_part.strip() + \" \" + parts.strip()\n",
    "\n",
    "# Test case\n",
    "expression = '∃x(P(x) ∧ Q(x)) ∧ ∀y(R(y) ∨ S(y))'\n",
    "print(\"Original Expression:\", expression)\n",
    "print(\"Penex Form:\", penex_form(expression))\n"
   ]
  },
  {
   "cell_type": "markdown",
   "metadata": {},
   "source": [
    "#### 6-Skolemization for existential quantifiers"
   ]
  },
  {
   "cell_type": "code",
   "execution_count": 226,
   "metadata": {},
   "outputs": [
    {
     "name": "stdout",
     "output_type": "stream",
     "text": [
      "Original expression: ∃x (P(x) & Q(x))\n",
      "Skolemized expression: P(f(x )) & Q(f(x )))\n"
     ]
    }
   ],
   "source": [
    "def skolemization(exp):\n",
    "    part = exp.split('∃')\n",
    "    parts_skol = [part[0]]\n",
    "    for part in part[1:]:\n",
    "        if part.strip():\n",
    "            var, i, exp_in = part.partition('(')\n",
    "            var += '('  # Adding back the opening parenthesis\n",
    "            \n",
    "            # Create Skolem function with parentheses\n",
    "            func_skol = \"f\" + \"(\"+var.replace('(', '').replace(')', ')')  + \")\" # Add closing parenthesis\n",
    "            \n",
    "            # Replace variable x in the inner expression with the Skolem function\n",
    "            skolemized_inner_exp = exp_in.replace('x',  func_skol )\n",
    "            \n",
    "            \n",
    "            # Append skolemized inner expression to the list of skolemized parts\n",
    "            parts_skol.append(skolemized_inner_exp)\n",
    "    return ''.join(parts_skol)\n",
    "\n",
    "# Example usage:\n",
    "logical_expression = \"∃x (P(x) & Q(x))\"\n",
    "skolemized_expression = skolemization(logical_expression)\n",
    "print(\"Original expression:\", logical_expression)\n",
    "print(\"Skolemized expression:\", skolemized_expression)\n"
   ]
  },
  {
   "cell_type": "markdown",
   "metadata": {},
   "source": [
    "#### 7-Eliminate universal quantifiers."
   ]
  },
  {
   "cell_type": "code",
   "execution_count": 299,
   "metadata": {},
   "outputs": [
    {
     "name": "stdout",
     "output_type": "stream",
     "text": [
      "Original expression: ∀x (P(x) & Q(x))\n",
      "Expression without universal quantifiers: (P(x) & Q(x))\n"
     ]
    }
   ],
   "source": [
    "# done\n",
    "def E_U(exp):\n",
    "    # Define a pattern to match universal quantifiers and their corresponding variables and inner expressions\n",
    "    patrn = r'∀(\\w+)\\s*\\((.*?)\\)'\n",
    "\n",
    "    # Use regex to remove all occurrences of universal quantifiers\n",
    "    withoutForAll = re.sub(patrn, r'(\\2)', exp)\n",
    "\n",
    "    return withoutForAll\n",
    "\n",
    "# Example usage:\n",
    "logical_expression = \"∀x (P(x) & Q(x))\"\n",
    "expression_without_universal_quantifiers = E_U(logical_expression)\n",
    "print(\"Original expression:\", logical_expression)\n",
    "print(\"Expression without universal quantifiers:\", expression_without_universal_quantifiers)\n"
   ]
  },
  {
   "cell_type": "markdown",
   "metadata": {},
   "source": [
    "#### 8-Convert to conjunctive normal form"
   ]
  },
  {
   "cell_type": "code",
   "execution_count": 464,
   "metadata": {},
   "outputs": [
    {
     "name": "stdout",
     "output_type": "stream",
     "text": [
      "Original expressions and their equivalents after bidirectional elimination:\n",
      "Test case 1:\n",
      "Original expression: (P <=> Q)\n",
      "Expression after bidirectional elimination: ((P -> Q) & (Q -> P))\n",
      "\n",
      "Test case 2:\n",
      "Original expression: (P <=> Q) <=> (R <=> S)\n",
      "Expression after bidirectional elimination: ((P -> Q) & (Q -> P)) <=> ((R -> S) & (S -> R))\n",
      "\n",
      "Test case 3:\n",
      "Original expression: (A <=> B) <=> (C <=> D) <=> (E <=> F)\n",
      "Expression after bidirectional elimination: ((A -> B) & (B -> A)) <=> ((C -> D) & (D -> C)) <=> ((E -> F) & (F -> E))\n",
      "\n",
      "Test case 4:\n",
      "Original expression: (P <=> Q) & (R <=> S)\n",
      "Expression after bidirectional elimination: ((P -> Q) & (Q -> P)) & ((R -> S) & (S -> R))\n",
      "\n",
      "Test case 5:\n",
      "Original expression: (P <=> Q) & (R <=> S) & (T <=> U)\n",
      "Expression after bidirectional elimination: ((P -> Q) & (Q -> P)) & ((R -> S) & (S -> R)) & ((T -> U) & (U -> T))\n",
      "\n"
     ]
    }
   ],
   "source": [
    "import re\n",
    "\n",
    "def eliminate_bidirectional(expression):\n",
    "    # Define a pattern to match bidirectional implications\n",
    "    pat = r'(\\b\\w+\\b)\\s*<=>\\s*(\\b\\w+\\b)'\n",
    "    \n",
    "    # Replace each bidirectional implication with the conjunction of implications\n",
    "    while re.search(pat, expression):\n",
    "        expression = re.sub(pat, r'(\\1 -> \\2) & (\\2 -> \\1)', expression)\n",
    "    \n",
    "    return expression\n",
    "\n",
    "# Test cases\n",
    "test_cases = [\n",
    "    \"(P <=> Q)\",                             # Simple bidirectional implication\n",
    "    \"(P <=> Q) <=> (R <=> S)\",               # Multiple bidirectional implications\n",
    "    \"(A <=> B) <=> (C <=> D) <=> (E <=> F)\", # Multiple bidirectional implications\n",
    "    \"(P <=> Q) & (R <=> S)\",                 # Bidirectional implications with other operators\n",
    "    \"(P <=> Q) & (R <=> S) & (T <=> U)\"      # Bidirectional implications with other operators and multiples\n",
    "]\n",
    "\n",
    "print(\"Original expressions and their equivalents after bidirectional elimination:\")\n",
    "for idx, expression in enumerate(test_cases, 1):\n",
    "    result = eliminate_bidirectional(expression)\n",
    "    print(f\"Test case {idx}:\")\n",
    "    print(\"Original expression:\", expression)\n",
    "    print(\"Expression after bidirectional elimination:\", result)\n",
    "    print()\n"
   ]
  },
  {
   "cell_type": "code",
   "execution_count": 297,
   "metadata": {},
   "outputs": [
    {
     "name": "stdout",
     "output_type": "stream",
     "text": [
      "Original expression: (p & q) | r\n",
      "Expression in conjunctive form: (p  & ( q) | r)\n",
      "===========================================\n",
      "\n",
      "Original expression 2: (p & q) | (r | s)\n",
      "Expression in conjunctive form 2: (p  & ( q) | (r | s))\n",
      "===========================================\n",
      "\n",
      "Original expression 3: (p & q) | (r & s)\n",
      "Expression in conjunctive form 3: (p  & ( q) | (r ) &  s)\n",
      "===========================================\n",
      "\n",
      "Original expression 4: p & (q | r) & (s | t)\n",
      "Expression in conjunctive form 4: p  & ( (q | r) ) & ( (s | t))\n"
     ]
    }
   ],
   "source": [
    "def to_conj_of_disj(expression):\n",
    "    # Split the expression by '&' to get individual conjuncts\n",
    "    conjuncts = expression.split('&')\n",
    "    \n",
    "    # Initialize the result as an empty string\n",
    "    result = \"\"\n",
    "    \n",
    "    # Iterate through each conjunct\n",
    "    for conjunct in conjuncts:\n",
    "        # If the conjunct contains '|', split it by '|' to get individual disjunctions\n",
    "        if '|' in conjunct:\n",
    "            disjunctions = conjunct.split('|')\n",
    "            # If there are multiple disjunctions, wrap them in parentheses\n",
    "            if len(disjunctions) > 1:\n",
    "                conjunct = '(' + conjunct + ')'\n",
    "        \n",
    "        # Append the modified conjunct to the result with '&' in between\n",
    "        result += conjunct + ' & '\n",
    "    \n",
    "    # Remove the trailing '&' and return the result\n",
    "    return result[:-3]  # Remove the last ' & '\n",
    "\n",
    "# Test case for to_conj_of_disj function\n",
    "expression = \"(p & q) | r\"\n",
    "result = to_conj_of_disj(expression)\n",
    "print(\"Original expression:\", expression)\n",
    "print(\"Expression in conjunctive form:\", result)\n",
    "print(\"===========================================\")\n",
    "# Test case 2\n",
    "expression_2 = \"(p & q) | (r | s)\"\n",
    "result_2 = to_conj_of_disj(expression_2)\n",
    "print(\"\\nOriginal expression 2:\", expression_2)\n",
    "print(\"Expression in conjunctive form 2:\", result_2)\n",
    "print(\"===========================================\")\n",
    "# Test case 3\n",
    "expression_3 = \"(p & q) | (r & s)\"\n",
    "result_3 = to_conj_of_disj(expression_3)\n",
    "print(\"\\nOriginal expression 3:\", expression_3)\n",
    "print(\"Expression in conjunctive form 3:\", result_3)\n",
    "# Test case 4\n",
    "print(\"===========================================\")\n",
    "expression_4 = \"p & (q | r) & (s | t)\"\n",
    "result_4 = to_conj_of_disj(expression_4)\n",
    "print(\"\\nOriginal expression 4:\", expression_4)\n",
    "print(\"Expression in conjunctive form 4:\", result_4)"
   ]
  },
  {
   "cell_type": "code",
   "execution_count": 465,
   "metadata": {},
   "outputs": [
    {
     "name": "stdout",
     "output_type": "stream",
     "text": [
      "Original Expression: ∀x(P(x)⇒Q(x))\n",
      "After Step 1 (Eliminate BIDIRECTIONAL): ∀x(P(x)⇒Q(x))\n",
      "After Step 2 (Eliminate Implications): ∀x(¬P(x)∨Q(x))\n",
      "After Step 3 (Move Negation Inward): ∀x(¬P(x)∨Q(x))\n",
      "After Step 4 (Remove Double Negations): ∀x(¬P(x)∨Q(x))\n",
      "After Step 5 (Standardize Variable Scope): ∀a(¬P(a)∨Q(a))\n",
      "After Step 6 (Move Universal Quantifiers Outward): (¬P(a)∨Q(a))\n",
      "After Step 7 (Skolemization): (¬P(a)∨Q(a))\n",
      "After Step 8 (Convert to CNF): (¬P(a)∨Q(a))\n",
      "\n",
      "Final CNF Expression 1: (¬P(a)∨Q(a))\n",
      "===============================================\n",
      "Original Expression: (P<=>Q)\n",
      "After Step 1 (Eliminate BIDIRECTIONAL): ((P -> Q) & (Q -> P))\n",
      "After Step 2 (Eliminate Implications): ((P -> Q) & (Q -> P))\n",
      "After Step 3 (Move Negation Inward): ((P -> Q) & (Q -> P))\n",
      "After Step 4 (Remove Double Negations): ((P -> Q) & (Q -> P))\n",
      "After Step 5 (Standardize Variable Scope): ((P -> Q) & (Q -> P))\n",
      "After Step 6 (Move Universal Quantifiers Outward): ((P -> Q) & (Q -> P))\n",
      "After Step 7 (Skolemization): ((P -> Q) & (Q -> P))\n",
      "After Step 8 (Convert to CNF): ((P -> Q)  &  (Q -> P))\n",
      "\n",
      "Final CNF Expression 2: ((P -> Q)  &  (Q -> P))\n",
      "===============================================\n"
     ]
    }
   ],
   "source": [
    "def convert_to_CNF(expression):\n",
    "    print(\"Original Expression:\", expression)\n",
    "    \n",
    "    # Step 1: Eliminate BIDIRECTIONAL\n",
    "    expression = eliminate_bidirectional(expression)\n",
    "    print(\"After Step 1 (Eliminate BIDIRECTIONAL):\", expression)\n",
    "    \n",
    "    # Step 2: Eliminate Implications\n",
    "    expression = eliminate_implication(expression)\n",
    "    print(\"After Step 2 (Eliminate Implications):\", expression)\n",
    "    \n",
    "    # Step 3: Move Negation Inward\n",
    "    expression = MNI(expression)\n",
    "    print(\"After Step 3 (Move Negation Inward):\", expression)\n",
    "    \n",
    "    # Step 4: Remove Double Negations\n",
    "    expression = remove_doube(expression)\n",
    "    print(\"After Step 4 (Remove Double Negations):\", expression)\n",
    "    \n",
    "    # Step 5: Standardize Variable Scope\n",
    "    expression = [expression]\n",
    "    \n",
    "    expression = SVS(expression)\n",
    "    print(\"After Step 5 (Standardize Variable Scope):\", expression)\n",
    "    # Step 6: Move Universal Quantifiers Outward\n",
    "    expression = E_U(expression)\n",
    "    print(\"After Step 6 (Move Universal Quantifiers Outward):\", expression)\n",
    "    \n",
    "    # Step 7: Skolemization\n",
    "    expression = skolemization(expression)\n",
    "    print(\"After Step 7 (Skolemization):\", expression)\n",
    "    \n",
    "    # Step 8: Convert to CNF\n",
    "    expression = to_conj_of_disj(expression)\n",
    "    print(\"After Step 8 (Convert to CNF):\", expression)\n",
    "    \n",
    "    return expression\n",
    "\n",
    "# Test cases\n",
    "logical_expression_1 = \"∀x(P(x)⇒Q(x))\"\n",
    "cnf_expression_1 = convert_to_CNF(logical_expression_1)\n",
    "print(\"\\nFinal CNF Expression 1:\", cnf_expression_1)\n",
    "print(\"===============================================\")\n",
    "\n",
    "logical_expression_2 = \"(P<=>Q)\"\n",
    "cnf_expression_2 = convert_to_CNF(logical_expression_2)\n",
    "print(\"\\nFinal CNF Expression 2:\", cnf_expression_2)\n",
    "print(\"===============================================\")\n",
    "\n",
    "\n"
   ]
  },
  {
   "cell_type": "code",
   "execution_count": 469,
   "metadata": {},
   "outputs": [],
   "source": [
    "# Step 9: Turn Conjunctions into Clauses\n",
    "def turn_conjunctions_into_clauses(expression):\n",
    "    # Split the expression by '&' to get individual conjuncts\n",
    "    conjuncts = expression.split('&')\n",
    "    \n",
    "    # Initialize the list to store clauses\n",
    "    clauses = []\n",
    "    \n",
    "    # Iterate through each conjunct\n",
    "    for conjunct in conjuncts:\n",
    "        # If the conjunct contains '|', split it by '|' to get individual disjunctions\n",
    "        if '|' in conjunct:\n",
    "            disjunctions = conjunct.split('|')\n",
    "            # If there are multiple disjunctions, wrap them in parentheses\n",
    "            if len(disjunctions) > 1:\n",
    "                conjunct = '(' + conjunct + ')'\n",
    "        \n",
    "        # Append the modified conjunct to the list of clauses\n",
    "        clauses.append(conjunct.strip())\n",
    "    \n",
    "    return set(clauses)  # Using set to ensure uniqueness of clauses"
   ]
  },
  {
   "cell_type": "code",
   "execution_count": 470,
   "metadata": {},
   "outputs": [
    {
     "name": "stdout",
     "output_type": "stream",
     "text": [
      "Original Expression: (A & B) | (C & D) | E\n",
      "Clauses: {'(A', '( D) | E)', '( B) | (C )'}\n"
     ]
    }
   ],
   "source": [
    "# Define the function\n",
    "def turn_conjunctions_into_clauses(expression):\n",
    "    # Split the expression by '&' to get individual conjuncts\n",
    "    conjuncts = expression.split('&')\n",
    "    \n",
    "    # Initialize the list to store clauses\n",
    "    clauses = []\n",
    "    \n",
    "    # Iterate through each conjunct\n",
    "    for conjunct in conjuncts:\n",
    "        # If the conjunct contains '|', split it by '|' to get individual disjunctions\n",
    "        if '|' in conjunct:\n",
    "            disjunctions = conjunct.split('|')\n",
    "            # If there are multiple disjunctions, wrap them in parentheses\n",
    "            if len(disjunctions) > 1:\n",
    "                conjunct = '(' + conjunct + ')'\n",
    "        \n",
    "        # Append the modified conjunct to the list of clauses\n",
    "        clauses.append(conjunct.strip())\n",
    "    \n",
    "    return set(clauses)  # Using set to ensure uniqueness of clauses\n",
    "\n",
    "# Test case\n",
    "expression = \"(A & B) | (C & D) | E\"\n",
    "result = turn_conjunctions_into_clauses(expression)\n",
    "print(\"Original Expression:\", expression)\n",
    "print(\"Clauses:\", result)\n"
   ]
  },
  {
   "cell_type": "code",
   "execution_count": null,
   "metadata": {},
   "outputs": [],
   "source": [
    "# Apply Resolution Procedure\n",
    "def resolution_procedure(expression):\n",
    "    # Apply each step of resolution procedure\n",
    "    expression = eliminate_implication(expression)\n",
    "    expression = MNI(expression)\n",
    "    expression = remove_doube(expression)\n",
    "    expression = SVS(expression)\n",
    "    expression = penex_form(expression)\n",
    "    expression = skolemization(expression)\n",
    "    expression = E_U(expression)\n",
    "    expression = convert_to_CNF(expression)\n",
    "    #note complete \n",
    "    # expression = turn_conjunctions_into_clauses(expression)\n",
    "    # expression = rename_variables_in_clauses(expression)\n",
    "    \n",
    "    # Perform resolution here\n",
    "    \n",
    "    return expression"
   ]
  }
 ],
 "metadata": {
  "kernelspec": {
   "display_name": "Python 3",
   "language": "python",
   "name": "python3"
  },
  "language_info": {
   "codemirror_mode": {
    "name": "ipython",
    "version": 3
   },
   "file_extension": ".py",
   "mimetype": "text/x-python",
   "name": "python",
   "nbconvert_exporter": "python",
   "pygments_lexer": "ipython3",
   "version": "3.12.1"
  }
 },
 "nbformat": 4,
 "nbformat_minor": 2
}
